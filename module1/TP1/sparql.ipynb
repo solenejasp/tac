{
 "cells": [
  {
   "cell_type": "markdown",
   "id": "53d5273f-9d72-4df1-a7f2-aa90325d87bc",
   "metadata": {
    "tags": []
   },
   "source": [
    "## Imaginer une requête SPARQL qui puisse être utile pour les Archives de la Ville de Bruxelles"
   ]
  },
  {
   "cell_type": "markdown",
   "id": "01ae1501-59b4-490b-82ed-05b67bf11268",
   "metadata": {},
   "source": [
    "### Imports"
   ]
  },
  {
   "cell_type": "code",
   "execution_count": 2,
   "id": "c974a465-83e0-47d5-862c-62565aef180a",
   "metadata": {},
   "outputs": [],
   "source": [
    "from datetime import datetime as dt\n",
    "from SPARQLWrapper import SPARQLWrapper, JSON"
   ]
  },
  {
   "cell_type": "markdown",
   "id": "161c10d2-3210-42ce-861b-60ad864a84d2",
   "metadata": {},
   "source": [
    "### Obtenir la liste des bourgmestres de la ville de Bruxelles avec leur date de début de mandat et leur parti politique."
   ]
  },
  {
   "cell_type": "code",
   "execution_count": 16,
   "id": "4f6d457b-f6f9-4898-adc7-679d3ff4772f",
   "metadata": {},
   "outputs": [
    {
     "name": "stdout",
     "output_type": "stream",
     "text": [
      "Charles-Joseph, 4th Duke d'Ursel - 1810-01-01 00:00:00 - Catholic Party)\n",
      "Charles-Joseph, 4th Duke d'Ursel - 1810-01-01 00:00:00 - Orangism)\n",
      "Charles-Joseph, 4th Duke d'Ursel - 1814-01-01 00:00:00 - Catholic Party)\n",
      "Charles-Joseph, 4th Duke d'Ursel - 1814-01-01 00:00:00 - Orangism)\n",
      "Charles-Joseph, 4th Duke d'Ursel - 1815-09-16 00:00:00 - Catholic Party)\n",
      "Charles-Joseph, 4th Duke d'Ursel - 1815-09-16 00:00:00 - Orangism)\n",
      "Charles de Brouckère - 1826-10-17 00:00:00 - Party for Freedom and Progress)\n",
      "Charles-Joseph, 4th Duke d'Ursel - 1829-01-01 00:00:00 - Catholic Party)\n",
      "Charles-Joseph, 4th Duke d'Ursel - 1829-01-01 00:00:00 - Orangism)\n",
      "Charles de Brouckère - 1831-10-03 00:00:00 - Party for Freedom and Progress)\n",
      "Charles-Joseph, 4th Duke d'Ursel - 1839-01-01 00:00:00 - Catholic Party)\n",
      "Charles-Joseph, 4th Duke d'Ursel - 1839-01-01 00:00:00 - Orangism)\n",
      "François-Jean Wyns de Raucourt - 1841-04-14 00:00:00 - Party for Freedom and Progress)\n",
      "Charles de Brouckère - 1848-07-26 00:00:00 - Party for Freedom and Progress)\n",
      "Charles de Brouckère - 1848-10-05 00:00:00 - Party for Freedom and Progress)\n",
      "Joseph Van De Meulebroeck - 1939-11-28 00:00:00 - Party for Freedom and Progress)\n",
      "Jules Coelst - 1941-01-01 00:00:00 - Catholic Party)\n",
      "Hervé Brouhon - 1983-03-04 00:00:00 - Socialist Party)\n",
      "François-Xavier de Donnea - 1989-07-25 00:00:00 - Reform Movement)\n",
      "Freddy Thielemans - 1993-01-01 00:00:00 - Socialist Party)\n",
      "François-Xavier de Donnea - 1995-05-21 00:00:00 - Reform Movement)\n",
      "Freddy Thielemans - 1999-07-20 00:00:00 - Socialist Party)\n",
      "Freddy Thielemans - 2001-01-01 00:00:00 - Socialist Party)\n",
      "Philippe Close - 2017-07-20 00:00:00 - Socialist Party)\n"
     ]
    }
   ],
   "source": [
    "# Retrieve results from SPARQL\n",
    "endpoint = \"https://query.wikidata.org/bigdata/namespace/wdq/sparql\"\n",
    "sparql = SPARQLWrapper(endpoint)\n",
    "\n",
    "statement = \"\"\"\n",
    "SELECT DISTINCT ?person ?personLabel ?startDate ?party ?partyLabel\n",
    "    WHERE {\n",
    "    ?person wdt:P39   wd:Q33126365 ;\n",
    "            wdt:P102  ?party .\n",
    "            \n",
    "    ?person    p:P39    ?statement .\n",
    "    ?statement pq:P580  ?startDate .\n",
    "    \n",
    "    SERVICE wikibase:label { bd:serviceParam wikibase:language \"en\" . }\n",
    "}\n",
    "\n",
    "ORDER BY ?startDate\n",
    "\"\"\"\n",
    "\n",
    "sparql.setQuery(statement)\n",
    "sparql.setReturnFormat(JSON)\n",
    "results = sparql.query().convert()\n",
    "rows = results['results']['bindings']\n",
    "\n",
    "date_format = \"%Y-%m-%dT%H:%M:%SZ\"\n",
    "\n",
    "for row in rows:\n",
    "    try:\n",
    "        start_date = dt.strptime(row['startDate']['value'], date_format)\n",
    "        start_date\n",
    "    except ValueError:\n",
    "        start_date = \"????\"\n",
    "    try:\n",
    "        political_party = row['partyLabel']['value']\n",
    "    except ValueError: # unknown death date\n",
    "        political_party = \"????\"\n",
    "\n",
    "    print(f\"{row['personLabel']['value']} - {start_date} - {political_party})\")"
   ]
  },
  {
   "cell_type": "code",
   "execution_count": 26,
   "id": "e9547ec8-4fbb-4cb9-9059-8b3c664b42af",
   "metadata": {},
   "outputs": [
    {
     "data": {
      "text/plain": [
       "20"
      ]
     },
     "execution_count": 26,
     "metadata": {},
     "output_type": "execute_result"
    }
   ],
   "source": [
    "start_date.day"
   ]
  },
  {
   "cell_type": "code",
   "execution_count": null,
   "id": "35d44465-45da-4617-918f-1f4703d52991",
   "metadata": {},
   "outputs": [],
   "source": []
  }
 ],
 "metadata": {
  "kernelspec": {
   "display_name": "Python 3 (ipykernel)",
   "language": "python",
   "name": "python3"
  },
  "language_info": {
   "codemirror_mode": {
    "name": "ipython",
    "version": 3
   },
   "file_extension": ".py",
   "mimetype": "text/x-python",
   "name": "python",
   "nbconvert_exporter": "python",
   "pygments_lexer": "ipython3",
   "version": "3.9.7"
  }
 },
 "nbformat": 4,
 "nbformat_minor": 5
}
