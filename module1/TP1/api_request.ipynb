{
 "cells": [
  {
   "cell_type": "markdown",
   "id": "43ccd0a9-c5f1-484a-8bbd-1cc6856c9053",
   "metadata": {},
   "source": [
    "# Interroger une API pour enrichir les données des bulletins communaux"
   ]
  },
  {
   "cell_type": "markdown",
   "id": "e977138c-ed7a-436f-9711-3394da87d090",
   "metadata": {},
   "source": [
    "## Imports"
   ]
  },
  {
   "cell_type": "code",
   "execution_count": 1,
   "id": "d5a5b0a3-1a72-4753-9a6f-d2cbfcb6e957",
   "metadata": {},
   "outputs": [],
   "source": [
    "import json\n",
    "import requests"
   ]
  },
  {
   "cell_type": "markdown",
   "id": "c4a55236-bcce-4532-9410-d44c204be85f",
   "metadata": {},
   "source": [
    "## Utiliser World Geo Data pour obtenir toutes les régions administratives en Belgique et récupérer l'identifiant de la région de Bruxelles."
   ]
  },
  {
   "cell_type": "markdown",
   "id": "fd208e4d-91b3-49e4-9015-b9f7a972f01a",
   "metadata": {},
   "source": [
    "https://rapidapi.com/natkapral/api/world-geo-data/"
   ]
  },
  {
   "cell_type": "code",
   "execution_count": 2,
   "id": "b6d0428b-bc2a-49f6-9460-2b2cc539fe0a",
   "metadata": {},
   "outputs": [],
   "source": [
    "url = 'https://world-geo-data.p.rapidapi.com/countries/BE/adm-divisions'\n",
    "\n",
    "headers = {\n",
    "    'x-rapidapi-host': \"world-geo-data.p.rapidapi.com\",\n",
    "    'x-rapidapi-key': \"4df3692d45msh4addc1a7e6190f0p1f3544jsn142deaadd4a9\"\n",
    "    }\n",
    "\n",
    "response = requests.get(url, headers=headers)\n",
    "response = json.loads(response.content)\n",
    "\n",
    "for region in response['divisions']:\n",
    "    if 'Brussels' in region['name']:\n",
    "        brussels_region_id = region['geonameid']"
   ]
  },
  {
   "cell_type": "markdown",
   "id": "5a7c8ef7-e1bd-4b48-8af1-324b1add6000",
   "metadata": {},
   "source": [
    "## A partir de l'identifiant de la région de Bruxelles, faire une requête pour obtenir toutes les communes de cette région et leurs propriétés (nom et population)"
   ]
  },
  {
   "cell_type": "code",
   "execution_count": 3,
   "id": "1dab1247-9fa5-4a53-9ef8-a958a828b6eb",
   "metadata": {},
   "outputs": [
    {
     "name": "stdout",
     "output_type": "stream",
     "text": [
      "Anderlecht - 160553 inhabitants\n",
      "Auderghem - 33984 inhabitants\n",
      "Sint-Agatha-Berchem - 25162 inhabitants\n",
      "Brussels - 1019022 inhabitants\n",
      "Etterbeek - 48344 inhabitants\n",
      "Evere - 41667 inhabitants\n",
      "Forest - 56254 inhabitants\n",
      "Ganshoren - 24859 inhabitants\n",
      "Ixelles-Elsene - 86671 inhabitants\n",
      "Jette - 52490 inhabitants\n",
      "Koekelberg - 21984 inhabitants\n",
      "Molenbeek-Saint-Jean - 97037 inhabitants\n",
      "Saint-Gilles - 50221 inhabitants\n",
      "Saint-Josse-ten-Noode - 27366 inhabitants\n",
      "Schaarbeek - 132761 inhabitants\n",
      "Uccle - 82929 inhabitants\n",
      "Watermael-Boitsfort - 25157 inhabitants\n",
      "Woluwe-Saint-Lambert - 56584 inhabitants\n"
     ]
    }
   ],
   "source": [
    "url = 'https://world-geo-data.p.rapidapi.com/adm-divisions/'+str(brussels_region_id)+'/cities'\n",
    "response = requests.get(url, headers=headers)\n",
    "response = json.loads(response.content)\n",
    "\n",
    "for city in response['cities']:\n",
    "    print(f\"{city['name']} - {city['population']} inhabitants\")"
   ]
  },
  {
   "cell_type": "code",
   "execution_count": null,
   "id": "5bfa5ad9-d8b3-482f-a4a1-46f2257600c8",
   "metadata": {},
   "outputs": [],
   "source": []
  }
 ],
 "metadata": {
  "kernelspec": {
   "display_name": "Python 3 (ipykernel)",
   "language": "python",
   "name": "python3"
  },
  "language_info": {
   "codemirror_mode": {
    "name": "ipython",
    "version": 3
   },
   "file_extension": ".py",
   "mimetype": "text/x-python",
   "name": "python",
   "nbconvert_exporter": "python",
   "pygments_lexer": "ipython3",
   "version": "3.9.7"
  }
 },
 "nbformat": 4,
 "nbformat_minor": 5
}
