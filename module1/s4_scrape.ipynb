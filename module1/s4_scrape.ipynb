{
 "cells": [
  {
   "cell_type": "markdown",
   "metadata": {},
   "source": [
    "# Scraping: récupération des PDFs des bulletins AVB"
   ]
  },
  {
   "cell_type": "markdown",
   "metadata": {},
   "source": [
    "## Imports"
   ]
  },
  {
   "cell_type": "code",
   "execution_count": 1,
   "metadata": {},
   "outputs": [],
   "source": [
    "import os\n",
    "import re\n",
    "import time\n",
    "import sys\n",
    "import requests"
   ]
  },
  {
   "cell_type": "markdown",
   "metadata": {},
   "source": [
    "## Créer un répertoire pour stocker tous les fichiers PDF"
   ]
  },
  {
   "cell_type": "code",
   "execution_count": 2,
   "metadata": {
    "tags": []
   },
   "outputs": [],
   "source": [
    "pdf_path = '../data/pdf'\n",
    "# Créer le dossier s'il n'existe pas\n",
    "if not os.path.exists(pdf_path):\n",
    "    os.mkdir(pdf_path)"
   ]
  },
  {
   "cell_type": "markdown",
   "metadata": {},
   "source": [
    "## Récupérer les URLs des pdf de tous les bulletins communaux"
   ]
  },
  {
   "cell_type": "markdown",
   "metadata": {},
   "source": [
    "https://archives.bruxelles.be/bulletins/date"
   ]
  },
  {
   "cell_type": "code",
   "execution_count": 3,
   "metadata": {
    "tags": []
   },
   "outputs": [
    {
     "name": "stdout",
     "output_type": "stream",
     "text": [
      "Status: 200\n",
      "Encoding: utf-8\n",
      "Text length: 821446\n",
      "2833 PDF files found\n"
     ]
    }
   ],
   "source": [
    "root_url = \"https://archives.bruxelles.be/bulletins/date\"\n",
    "resp = requests.get(root_url)\n",
    "print(f\"Status: {resp.status_code}\")\n",
    "print(f\"Encoding: {resp.encoding}\")\n",
    "html = resp.text\n",
    "print(f\"Text length: {len(html)}\")\n",
    "\n",
    "pattern = r\"https://archief.brussel.be/Colossus/BulletinsCommunaux/Bulletins/Documents/.*\\.pdf\"\n",
    "urls = re.findall(pattern, html)\n",
    "print(f\"{len(urls)} PDF files found\")"
   ]
  },
  {
   "cell_type": "code",
   "execution_count": 4,
   "metadata": {
    "tags": []
   },
   "outputs": [
    {
     "name": "stdout",
     "output_type": "stream",
     "text": [
      "['https://archief.brussel.be/Colossus/BulletinsCommunaux/Bulletins/Documents/Bxl_1847_Tome_I1_Part_1.pdf', 'https://archief.brussel.be/Colossus/BulletinsCommunaux/Bulletins/Documents/Bxl_1847_Tome_I1_Part_2.pdf', 'https://archief.brussel.be/Colossus/BulletinsCommunaux/Bulletins/Documents/Bxl_1847_Tome_I1_Part_3.pdf', 'https://archief.brussel.be/Colossus/BulletinsCommunaux/Bulletins/Documents/Bxl_1847_Tome_I1_Part_4.pdf', 'https://archief.brussel.be/Colossus/BulletinsCommunaux/Bulletins/Documents/Bxl_1847_Tome_I1_Part_5.pdf', 'https://archief.brussel.be/Colossus/BulletinsCommunaux/Bulletins/Documents/Bxl_1848_Tome_I1_Part_1.pdf', 'https://archief.brussel.be/Colossus/BulletinsCommunaux/Bulletins/Documents/Bxl_1848_Tome_I1_Part_2.pdf', 'https://archief.brussel.be/Colossus/BulletinsCommunaux/Bulletins/Documents/Bxl_1848_Tome_I1_Part_3.pdf', 'https://archief.brussel.be/Colossus/BulletinsCommunaux/Bulletins/Documents/Bxl_1849_Tome_I1_Part_1.pdf', 'https://archief.brussel.be/Colossus/BulletinsCommunaux/Bulletins/Documents/Bxl_1849_Tome_I1_Part_2.pdf']\n"
     ]
    }
   ],
   "source": [
    "# Impression des 10 premières URLs\n",
    "print(urls[:10])"
   ]
  },
  {
   "cell_type": "markdown",
   "metadata": {},
   "source": [
    "## Télécharger tous les PDFs"
   ]
  },
  {
   "cell_type": "code",
   "execution_count": 7,
   "metadata": {},
   "outputs": [
    {
     "name": "stdout",
     "output_type": "stream",
     "text": [
      "Bxl_1847_Tome_I1_Part_1.pdf already downloaded\n",
      "Bxl_1847_Tome_I1_Part_2.pdf already downloaded\n",
      "Bxl_1847_Tome_I1_Part_3.pdf already downloaded\n",
      "Bxl_1847_Tome_I1_Part_4.pdf already downloaded\n",
      "Bxl_1847_Tome_I1_Part_5.pdf already downloaded\n",
      "Bxl_1848_Tome_I1_Part_1.pdf already downloaded\n",
      "Bxl_1848_Tome_I1_Part_2.pdf already downloaded\n",
      "Bxl_1848_Tome_I1_Part_3.pdf already downloaded\n",
      "Bxl_1849_Tome_I1_Part_1.pdf already downloaded\n",
      "Bxl_1849_Tome_I1_Part_2.pdf already downloaded\n",
      "Bxl_1849_Tome_I1_Part_3.pdf already downloaded\n",
      "Bxl_1849_Tome_I1_Part_4.pdf already downloaded\n",
      "Bxl_1849_Tome_I1_Part_5.pdf already downloaded\n",
      "Bxl_1849_Tome_II1_Part_1.pdf already downloaded\n",
      "Bxl_1849_Tome_II1_Part_2.pdf already downloaded\n",
      "Bxl_1849_Tome_II1_Part_3.pdf already downloaded\n",
      "Bxl_1849_Tome_II1_Part_4.pdf already downloaded\n",
      "Bxl_1849_Tome_II1_Part_5.pdf already downloaded\n",
      "Bxl_1849_Tome_II1_Part_6.pdf already downloaded\n",
      "Bxl_1849_Tome_II1_Part_7.pdf already downloaded\n",
      "Downloading Bxl_1850_Tome_I1_Part_1.pdf...\n",
      "   done in 20.9 seconds\n",
      "Downloading Bxl_1850_Tome_I1_Part_2.pdf...\n",
      "   done in 20.4 seconds\n",
      "Downloading Bxl_1850_Tome_I1_Part_3.pdf...\n",
      "   done in 22.5 seconds\n",
      "Downloading Bxl_1850_Tome_I1_Part_4.pdf...\n",
      "   done in 10.3 seconds\n",
      "Downloading Bxl_1850_Tome_II1_Part_1.pdf...\n",
      "   done in 21.9 seconds\n",
      "Downloading Bxl_1850_Tome_II1_Part_2.pdf...\n",
      "   done in 36.7 seconds\n",
      "Downloading Bxl_1850_Tome_II1_Part_3.pdf...\n",
      "   done in 21.8 seconds\n",
      "Downloading Bxl_1850_Tome_II1_Part_4.pdf...\n",
      "   done in 21.5 seconds\n",
      "Downloading Bxl_1850_Tome_II1_Part_5.pdf...\n",
      "   done in 20.7 seconds\n",
      "Downloading Bxl_1850_Tome_II1_Part_6.pdf...\n",
      "   done in 29.5 seconds\n",
      "Downloading Bxl_1850_Tome_II1_Part_7.pdf...\n",
      "   done in 2.4 seconds\n",
      "Downloading Bxl_1851_Tome_I1_Part_1.pdf...\n",
      "   done in 27.4 seconds\n",
      "Downloading Bxl_1851_Tome_I1_Part_2.pdf...\n",
      "   done in 36.7 seconds\n",
      "Downloading Bxl_1851_Tome_I1_Part_3.pdf...\n",
      "   done in 30.1 seconds\n",
      "Downloading Bxl_1851_Tome_I1_Part_4.pdf...\n",
      "   done in 30.0 seconds\n",
      "Downloading Bxl_1851_Tome_I1_Part_5.pdf...\n",
      "   done in 19.4 seconds\n",
      "Downloading Bxl_1851_Tome_II1_Part_1.pdf...\n",
      "   done in 27.8 seconds\n",
      "Downloading Bxl_1851_Tome_II1_Part_2.pdf...\n",
      "   done in 24.1 seconds\n",
      "Downloading Bxl_1851_Tome_II1_Part_3.pdf...\n",
      "   done in 25.9 seconds\n",
      "Downloading Bxl_1851_Tome_II1_Part_4.pdf...\n",
      "   done in 33.6 seconds\n",
      "Downloading Bxl_1851_Tome_II1_Part_5.pdf...\n",
      "   done in 20.2 seconds\n",
      "Downloading Bxl_1851_Tome_II1_Part_6.pdf...\n",
      "   done in 17.7 seconds\n",
      "Downloading Bxl_1851_Tome_II1_Part_7.pdf...\n",
      "   done in 13.2 seconds\n",
      "Downloading Bxl_1852_Tome_I1_Part_1.pdf...\n",
      "   done in 22.0 seconds\n",
      "Downloading Bxl_1852_Tome_I1_Part_2.pdf...\n",
      "   done in 43.0 seconds\n",
      "Downloading Bxl_1852_Tome_I1_Part_3.pdf...\n",
      "   done in 23.0 seconds\n",
      "Downloading Bxl_1852_Tome_I1_Part_4.pdf...\n",
      "   done in 26.3 seconds\n",
      "Downloading Bxl_1852_Tome_I1_Part_5.pdf...\n",
      "   done in 7.8 seconds\n",
      "Downloading Bxl_1852_Tome_II1_Part_1.pdf...\n",
      "   done in 25.7 seconds\n",
      "Downloading Bxl_1852_Tome_II1_Part_2.pdf...\n",
      "   done in 25.9 seconds\n",
      "Downloading Bxl_1852_Tome_II1_Part_3.pdf...\n",
      "   done in 23.2 seconds\n",
      "Downloading Bxl_1852_Tome_II1_Part_4.pdf...\n",
      "   done in 24.3 seconds\n",
      "Downloading Bxl_1852_Tome_II1_Part_5.pdf...\n",
      "   done in 12.6 seconds\n",
      "Downloading Bxl_1854_Tome_I1_Part_1.pdf...\n",
      "   done in 24.0 seconds\n",
      "Downloading Bxl_1854_Tome_I1_Part_2.pdf...\n",
      "   done in 25.8 seconds\n",
      "Downloading Bxl_1854_Tome_I1_Part_3.pdf...\n",
      "   done in 11.6 seconds\n",
      "Downloading Bxl_1854_Tome_II1_Part_1.pdf...\n",
      "   done in 25.9 seconds\n",
      "Downloading Bxl_1854_Tome_II1_Part_2.pdf...\n",
      "   done in 34.3 seconds\n",
      "Downloading Bxl_1854_Tome_II1_Part_3.pdf...\n",
      "   done in 33.6 seconds\n",
      "Downloading Bxl_1854_Tome_II1_Part_4.pdf...\n",
      "   done in 27.3 seconds\n",
      "Downloading Bxl_1854_Tome_II1_Part_5.pdf...\n",
      "   done in 24.4 seconds\n",
      "Downloading Bxl_1854_Tome_II1_Part_6.pdf...\n",
      "   done in 23.9 seconds\n",
      "Downloading Bxl_1855_Tome_I1_Part_1.pdf...\n",
      "   done in 24.7 seconds\n",
      "Downloading Bxl_1855_Tome_I1_Part_2.pdf...\n",
      "   done in 24.6 seconds\n",
      "Downloading Bxl_1855_Tome_I1_Part_3.pdf...\n",
      "   done in 37.4 seconds\n",
      "Downloading Bxl_1855_Tome_I1_Part_4.pdf...\n",
      "   done in 26.8 seconds\n",
      "Downloading Bxl_1855_Tome_I1_Part_5.pdf...\n",
      "   done in 28.1 seconds\n",
      "Downloading Bxl_1855_Tome_I1_Part_6.pdf...\n",
      "   done in 10.6 seconds\n",
      "Downloading Bxl_1855_Tome_II1_Part_1.pdf...\n",
      "   done in 25.3 seconds\n",
      "Downloading Bxl_1855_Tome_II1_Part_2.pdf...\n",
      "   done in 22.5 seconds\n",
      "Downloading Bxl_1855_Tome_II1_Part_3.pdf...\n",
      "   done in 18.2 seconds\n",
      "Downloading Bxl_1855_Tome_II1_Part_4.pdf...\n",
      "   done in 15.6 seconds\n",
      "Downloading Bxl_1855_Tome_II1_Part_5.pdf...\n",
      "   done in 19.6 seconds\n",
      "Downloading Bxl_1855_Tome_II1_Part_6.pdf...\n",
      "   done in 17.5 seconds\n",
      "Downloading Bxl_1855_Tome_II1_Part_7.pdf...\n",
      "   done in 3.7 seconds\n",
      "Downloading Bxl_1856_Tome_I1_Part_1.pdf...\n",
      "   done in 16.2 seconds\n",
      "Downloading Bxl_1856_Tome_I1_Part_2.pdf...\n",
      "   done in 26.3 seconds\n",
      "Downloading Bxl_1856_Tome_I1_Part_3.pdf...\n",
      "   done in 27.6 seconds\n",
      "Downloading Bxl_1856_Tome_I1_Part_4.pdf...\n",
      "   done in 27.3 seconds\n",
      "Downloading Bxl_1856_Tome_I1_Part_5.pdf...\n",
      "   done in 17.4 seconds\n",
      "Downloading Bxl_1856_Tome_II1_Part_1.pdf...\n",
      "   done in 18.2 seconds\n",
      "Downloading Bxl_1856_Tome_II1_Part_2.pdf...\n",
      "   done in 20.2 seconds\n",
      "Downloading Bxl_1856_Tome_II1_Part_3.pdf...\n",
      "   done in 20.9 seconds\n",
      "Downloading Bxl_1856_Tome_II1_Part_4.pdf...\n",
      "   done in 23.9 seconds\n",
      "Downloading Bxl_1856_Tome_II1_Part_5.pdf...\n",
      "   done in 20.0 seconds\n",
      "Downloading Bxl_1856_Tome_II1_Part_6.pdf...\n",
      "   done in 20.0 seconds\n",
      "Downloading Bxl_1856_Tome_II1_Part_7.pdf...\n",
      "   done in 19.8 seconds\n",
      "Downloading Bxl_1856_Tome_II1_Part_8.pdf...\n",
      "   done in 2.3 seconds\n",
      "Downloading Bxl_1857_Tome_I1_Part_1.pdf...\n",
      "   done in 21.0 seconds\n",
      "Downloading Bxl_1857_Tome_I1_Part_2.pdf...\n",
      "   done in 25.4 seconds\n",
      "Downloading Bxl_1857_Tome_I1_Part_3.pdf...\n",
      "   done in 19.0 seconds\n",
      "Downloading Bxl_1857_Tome_I1_Part_4.pdf...\n",
      "   done in 21.5 seconds\n",
      "Downloading Bxl_1857_Tome_I1_Part_5.pdf...\n",
      "   done in 4.7 seconds\n",
      "Downloading Bxl_1857_Tome_II1_Part_1.pdf...\n",
      "   done in 25.7 seconds\n",
      "Downloading Bxl_1857_Tome_II1_Part_2.pdf...\n",
      "   done in 26.0 seconds\n",
      "Downloading Bxl_1857_Tome_II1_Part_3.pdf...\n",
      "   done in 22.1 seconds\n",
      "Downloading Bxl_1857_Tome_II1_Part_4.pdf...\n",
      "   done in 52.0 seconds\n",
      "Downloading Bxl_1857_Tome_II1_Part_5.pdf...\n",
      "   done in 27.6 seconds\n",
      "Downloading Bxl_1857_Tome_II1_Part_6.pdf...\n",
      "   done in 10.0 seconds\n",
      "Downloading Bxl_1858_Tome_I1_Part_1.pdf...\n",
      "   done in 39.9 seconds\n",
      "Done\n"
     ]
    }
   ],
   "source": [
    "start_offset = 0\n",
    "end_offset = 100\n",
    "for url in urls[start_offset:end_offset]:\n",
    "    filename = url.split(\"/\")[-1]\n",
    "    if not os.path.exists(os.path.join(pdf_path, filename)):\n",
    "        print(f\"Downloading {filename}...\")\n",
    "        start_time = time.time()\n",
    "        response = requests.get(url)\n",
    "        print(f\"   done in {(time.time() - start_time):.1f} seconds\")\n",
    "        output_file = open(os.path.join(pdf_path, filename), \"wb\")\n",
    "        output_file.write(response.content)\n",
    "    else:\n",
    "        print(f\"{filename} already downloaded\")\n",
    "print(\"Done\")"
   ]
  },
  {
   "cell_type": "markdown",
   "metadata": {},
   "source": [
    "## Vérifier que tous les PDFs ont été téléchargés\n"
   ]
  },
  {
   "cell_type": "markdown",
   "metadata": {},
   "source": [
    "Si ce n'est pas le cas, vous pouvez relancer l'étape de téléchargement (elle ignorera les documents déjà téléchargés)"
   ]
  },
  {
   "cell_type": "code",
   "execution_count": null,
   "metadata": {},
   "outputs": [],
   "source": [
    "ok_count = 0\n",
    "for url in urls:\n",
    "    filename = url.split(\"/\")[-1]\n",
    "    downloads = os.listdir(pdf_path)\n",
    "    if filename not in downloads:\n",
    "        print(f\"{filename} is missing!\")\n",
    "    else:\n",
    "        ok_count += 1\n",
    "print(f\"{ok_count} PDFs found on {len(urls)}!\")"
   ]
  },
  {
   "cell_type": "markdown",
   "metadata": {},
   "source": [
    "## Pour en savoir plus"
   ]
  },
  {
   "cell_type": "markdown",
   "metadata": {},
   "source": [
    "- Le web scraping avec Python: https://realpython.com/beautiful-soup-web-scraper-python/\n",
    "- Tutoriel sur les expressions régulières: https://www.w3schools.com/python/python_regex.asp"
   ]
  }
 ],
 "metadata": {
  "kernelspec": {
   "display_name": "Python 3 (ipykernel)",
   "language": "python",
   "name": "python3"
  },
  "language_info": {
   "codemirror_mode": {
    "name": "ipython",
    "version": 3
   },
   "file_extension": ".py",
   "mimetype": "text/x-python",
   "name": "python",
   "nbconvert_exporter": "python",
   "pygments_lexer": "ipython3",
   "version": "3.9.7"
  }
 },
 "nbformat": 4,
 "nbformat_minor": 4
}
