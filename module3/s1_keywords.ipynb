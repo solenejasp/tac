{
 "cells": [
  {
   "cell_type": "markdown",
   "metadata": {},
   "source": [
    "# Extraction de Keywords"
   ]
  },
  {
   "cell_type": "markdown",
   "metadata": {},
   "source": [
    "## Imports"
   ]
  },
  {
   "cell_type": "code",
   "execution_count": 1,
   "metadata": {},
   "outputs": [],
   "source": [
    "import os\n",
    "import yake"
   ]
  },
  {
   "cell_type": "markdown",
   "metadata": {},
   "source": [
    "## Extraire les mots clés d'un document avec Yake"
   ]
  },
  {
   "cell_type": "markdown",
   "metadata": {},
   "source": [
    "https://github.com/LIAAD/yake"
   ]
  },
  {
   "cell_type": "code",
   "execution_count": 2,
   "metadata": {
    "tags": []
   },
   "outputs": [
    {
     "data": {
      "text/plain": [
       "{'conseil communal', 'conseil général'}"
      ]
     },
     "execution_count": 2,
     "metadata": {},
     "output_type": "execute_result"
    }
   ],
   "source": [
    "# Création d'une liste de mots à ignorer\n",
    "ignored = set([\"conseil communal\", \"conseil général\"])\n",
    "ignored"
   ]
  },
  {
   "cell_type": "code",
   "execution_count": 3,
   "metadata": {},
   "outputs": [
    {
     "data": {
      "text/plain": [
       "<yake.yake.KeywordExtractor at 0x7f7e90403e80>"
      ]
     },
     "execution_count": 3,
     "metadata": {},
     "output_type": "execute_result"
    }
   ],
   "source": [
    "# Instantier l'extracteur de mots clés\n",
    "kw_extractor = yake.KeywordExtractor(lan=\"fr\", top=50)\n",
    "kw_extractor"
   ]
  },
  {
   "cell_type": "code",
   "execution_count": 4,
   "metadata": {},
   "outputs": [],
   "source": [
    "# Lister les Fichiers\n",
    "data_path = \"../data/txt/\"\n",
    "files = os.listdir(data_path)"
   ]
  },
  {
   "cell_type": "code",
   "execution_count": 5,
   "metadata": {},
   "outputs": [
    {
     "data": {
      "text/plain": [
       "2828"
      ]
     },
     "execution_count": 5,
     "metadata": {},
     "output_type": "execute_result"
    }
   ],
   "source": [
    "# Imprimer le nombre de fichiers identifiés\n",
    "len(files)"
   ]
  },
  {
   "cell_type": "code",
   "execution_count": 6,
   "metadata": {},
   "outputs": [
    {
     "data": {
      "text/plain": [
       "['Bxl_1847_Tome_I1_Part_1.txt',\n",
       " 'Bxl_1847_Tome_I1_Part_2.txt',\n",
       " 'Bxl_1847_Tome_I1_Part_3.txt',\n",
       " 'Bxl_1847_Tome_I1_Part_4.txt',\n",
       " 'Bxl_1847_Tome_I1_Part_5.txt',\n",
       " 'Bxl_1848_Tome_I1_Part_1.txt',\n",
       " 'Bxl_1848_Tome_I1_Part_2.txt',\n",
       " 'Bxl_1848_Tome_I1_Part_3.txt',\n",
       " 'Bxl_1849_Tome_I1_Part_1.txt',\n",
       " 'Bxl_1849_Tome_I1_Part_2.txt',\n",
       " 'Bxl_1849_Tome_I1_Part_3.txt',\n",
       " 'Bxl_1849_Tome_I1_Part_4.txt',\n",
       " 'Bxl_1849_Tome_I1_Part_5.txt',\n",
       " 'Bxl_1849_Tome_II1_Part_1.txt',\n",
       " 'Bxl_1849_Tome_II1_Part_2.txt',\n",
       " 'Bxl_1849_Tome_II1_Part_3.txt',\n",
       " 'Bxl_1849_Tome_II1_Part_4.txt',\n",
       " 'Bxl_1849_Tome_II1_Part_5.txt',\n",
       " 'Bxl_1849_Tome_II1_Part_6.txt',\n",
       " 'Bxl_1849_Tome_II1_Part_7.txt']"
      ]
     },
     "execution_count": 6,
     "metadata": {},
     "output_type": "execute_result"
    }
   ],
   "source": [
    "# Les dix premiers fichiers\n",
    "files[:20]"
   ]
  },
  {
   "cell_type": "code",
   "execution_count": 7,
   "metadata": {},
   "outputs": [
    {
     "data": {
      "text/plain": [
       "2677"
      ]
     },
     "execution_count": 7,
     "metadata": {},
     "output_type": "execute_result"
    }
   ],
   "source": [
    "# Enlever les fichiers qui ne commencent pas par Bxl_\n",
    "bxl_files = [f for f in files if f.startswith('Bxl_')]\n",
    "len(bxl_files)"
   ]
  },
  {
   "cell_type": "code",
   "execution_count": 8,
   "metadata": {},
   "outputs": [
    {
     "data": {
      "text/plain": [
       "'Bxl_1848_Tome_I1_Part_3.txt'"
      ]
     },
     "execution_count": 8,
     "metadata": {},
     "output_type": "execute_result"
    }
   ],
   "source": [
    "# Choisir un fichier\n",
    "this_file = bxl_files[7]\n",
    "this_file"
   ]
  },
  {
   "cell_type": "code",
   "execution_count": 9,
   "metadata": {},
   "outputs": [
    {
     "data": {
      "text/plain": [
       "\"— 197 —\\ndivers arrêtés de la mairie. A qui le billet d'enterrement doit-il être\\nremis? La commune, fidèle aux traditions de l'an XII, le délivre au fossoyeurs ; l'église le réclame pour le receveur des droits d'inhumation. Aussi\\nles attributions se sont-elles confondues, ici parce que la ville a nommé le\\npréposé de l'église fossoyeur, là, parce que le fossoyeur a usurpé les fonctions de receveur des fabriques.\\nNous croyons que le billet d'enterrement pourrait être délivré directement à la famill\""
      ]
     },
     "execution_count": 9,
     "metadata": {},
     "output_type": "execute_result"
    }
   ],
   "source": [
    "# Récupérer le texte du fichier\n",
    "text = open(os.path.join(data_path, this_file), 'r').read()\n",
    "text[:500]"
   ]
  },
  {
   "cell_type": "code",
   "execution_count": 11,
   "metadata": {},
   "outputs": [],
   "source": [
    "# Extraire les mots clés de ce texte\n",
    "keywords = kw_extractor.extract_keywords(text)"
   ]
  },
  {
   "cell_type": "code",
   "execution_count": 12,
   "metadata": {},
   "outputs": [
    {
     "data": {
      "text/plain": [
       "[('Conseil', 0.00036890284246636506),\n",
       " ('Hardy de Beaulieu', 0.0005425323266774805),\n",
       " ('Conseil communal', 0.0006574113831178961),\n",
       " ('ville', 0.0008562019679912539),\n",
       " ('BRUXELLES', 0.0011997326824872813),\n",
       " ('système', 0.00122373619395982),\n",
       " (\"qu'il\", 0.0013965360380542354),\n",
       " ('Section', 0.0014591773648888198),\n",
       " ('dépense', 0.001615066009279891),\n",
       " ('commission', 0.0017002784422375527),\n",
       " (\"c'est\", 0.0018717881203792759),\n",
       " ('faire', 0.0018923244789421124),\n",
       " (\"d'une\", 0.0019719701315637096),\n",
       " (\"d'eau\", 0.0019734114434378854),\n",
       " ('collège', 0.0021183612690772167),\n",
       " ('Hardy', 0.0022895922507226614),\n",
       " ('rapport', 0.0024687264766768556),\n",
       " ('serait', 0.002528891739306828),\n",
       " ('travaux', 0.0025458808180149678),\n",
       " (\"d'un\", 0.0026901526261965234),\n",
       " ('Beaulieu', 0.002725188311669609),\n",
       " ('rue', 0.0029239760167334957),\n",
       " (\"distribution d'eau\", 0.002944410614572923),\n",
       " ('question', 0.0030429934651004017),\n",
       " ('Delaveleye', 0.0032285484648275887),\n",
       " ('section des finances', 0.003335816744078953),\n",
       " ('eaux', 0.003493511618802072),\n",
       " ('Messieurs', 0.0036159340455033987),\n",
       " (\"qu'il serait\", 0.004091798933273595),\n",
       " ('projet', 0.004739111461568864),\n",
       " ('Bourgmestre', 0.004845755089923458),\n",
       " (\"l'échevin Fontainas\", 0.004910884435589948),\n",
       " ('mètres', 0.004935208491561464),\n",
       " ('travaux publics', 0.00499638361829864),\n",
       " ('Conseil adopte', 0.005032570056921406),\n",
       " ('dépenses', 0.005097552091789656),\n",
       " ('finances', 0.005144002885827361),\n",
       " ('demande', 0.005438150116476249),\n",
       " ('ville de Bruxelles', 0.005514749264525633),\n",
       " (\"l'on\", 0.005576986159341497),\n",
       " ('art', 0.005775621240454741),\n",
       " ('Gendebien', 0.005842418191407163),\n",
       " ('Fontainas', 0.005854726532288998),\n",
       " ('francs', 0.005855138917440847),\n",
       " ('systèmes', 0.005922883178765529),\n",
       " ('point', 0.005971863204939924),\n",
       " ('rue Royale', 0.006161308456171531),\n",
       " ('service', 0.00624942456747304),\n",
       " (\"dépenses qu'il serait\", 0.006341617449678595),\n",
       " (\"n'est\", 0.0063494985669837415)]"
      ]
     },
     "execution_count": 12,
     "metadata": {},
     "output_type": "execute_result"
    }
   ],
   "source": [
    "keywords"
   ]
  },
  {
   "cell_type": "code",
   "execution_count": 13,
   "metadata": {},
   "outputs": [
    {
     "data": {
      "text/plain": [
       "[\"distribution d'eau\",\n",
       " \"qu'il serait\",\n",
       " \"l'échevin Fontainas\",\n",
       " 'travaux publics',\n",
       " 'Conseil adopte',\n",
       " 'rue Royale']"
      ]
     },
     "execution_count": 13,
     "metadata": {},
     "output_type": "execute_result"
    }
   ],
   "source": [
    "# Ne garder que les bigrammes\n",
    "kept = []\n",
    "for kw, score in keywords:\n",
    "    words = kw.split()\n",
    "    if len(words) == 2 and kw.lower() not in ignored:\n",
    "        kept.append(kw)\n",
    "kept"
   ]
  },
  {
   "cell_type": "markdown",
   "metadata": {},
   "source": [
    "## Faire la même opération sur tous les documents"
   ]
  },
  {
   "cell_type": "code",
   "execution_count": 15,
   "metadata": {},
   "outputs": [
    {
     "name": "stdout",
     "output_type": "stream",
     "text": [
      "Bxl_1871_Tome_II1_Part_2.txt mentions these keywords: rue haute, théâtre royal, travaux publics, représentation gratuite, rue terre-neuve, travaux d'assainissement, voie publique...\n",
      "Bxl_1871_Tome_II1_Part_3.txt mentions these keywords: d'une somme, travaux publics, nombre nombre, don d'une, l'adjudication publique, enfants trouvés, fonds communal...\n",
      "Bxl_1871_Tome_II1_Part_4.txt mentions these keywords: ...\n",
      "Bxl_1871_Tome_II1_Part_5.txt mentions these keywords: travaux publics, crois qu'il, l'echevin lemaieur, rue haute...\n",
      "Bxl_1871_Tome_II1_Part_6.txt mentions these keywords: l'echevin funck, l'echevin lemaieur, qu'il faut, l'administration communale, d'un subside...\n",
      "Bxl_1871_Tome_II1_Part_7.txt mentions these keywords: compagnie anglaise, travaux publics, l'echevin orts, l'echevin fontainas, l'administration communale...\n",
      "Bxl_1871_Tome_II1_Part_8.txt mentions these keywords: conseiller communal, voir terrains, d'un crédit, d'un terrain...\n",
      "Bxl_1872_Tome_I1_Part_1.txt mentions these keywords: travaux publics, boulevard central, l'adjudication publique, public qu'il, rue haute...\n",
      "Bxl_1872_Tome_I1_Part_2.txt mentions these keywords: volume d'eau, enfants trouvés, mètres cubes, travaux publics, distribution d'eau, cubes d'eau, d'une ville...\n",
      "Bxl_1872_Tome_I1_Part_3.txt mentions these keywords: députation permanente, école communale, l'enseignement primaire, qu'il faut...\n"
     ]
    }
   ],
   "source": [
    "for f in sorted(bxl_files)[230:240]:\n",
    "    text = open(os.path.join(data_path, f), 'r').read()\n",
    "    keywords = kw_extractor.extract_keywords(text.lower())\n",
    "    kept = []\n",
    "    for kw, score in keywords:\n",
    "        words = kw.split()\n",
    "        if len(words) == 2 and kw.lower() not in ignored:\n",
    "            kept.append(kw)\n",
    "    print(f\"{f} mentions these keywords: {', '.join(kept)}...\")"
   ]
  },
  {
   "cell_type": "code",
   "execution_count": null,
   "metadata": {},
   "outputs": [],
   "source": []
  },
  {
   "cell_type": "code",
   "execution_count": null,
   "metadata": {},
   "outputs": [],
   "source": []
  }
 ],
 "metadata": {
  "kernelspec": {
   "display_name": "Python 3 (ipykernel)",
   "language": "python",
   "name": "python3"
  },
  "language_info": {
   "codemirror_mode": {
    "name": "ipython",
    "version": 3
   },
   "file_extension": ".py",
   "mimetype": "text/x-python",
   "name": "python",
   "nbconvert_exporter": "python",
   "pygments_lexer": "ipython3",
   "version": "3.9.7"
  }
 },
 "nbformat": 4,
 "nbformat_minor": 4
}
