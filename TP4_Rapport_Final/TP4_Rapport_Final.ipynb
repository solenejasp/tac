{
 "cells": [
  {
   "cell_type": "markdown",
   "id": "967f35d1-c10c-4cde-aea5-36a9acf8e153",
   "metadata": {},
   "source": [
    "# Imports"
   ]
  },
  {
   "cell_type": "code",
   "execution_count": 1,
   "id": "e8812c35-a568-4682-8fe4-c83e6d372d7d",
   "metadata": {},
   "outputs": [],
   "source": [
    "import os\n",
    "from nltk.tokenize import sent_tokenize, wordpunct_tokenize\n",
    "from nltk.corpus import stopwords\n",
    "import langid\n",
    "langid.set_languages(['fr', 'nl'])\n",
    "from collections import Counter, defaultdict\n",
    "import sys\n",
    "import pandas as pd\n",
    "import matplotlib.pyplot as plt\n",
    "from sklearn.feature_extraction.text import TfidfVectorizer\n",
    "import string\n",
    "from wordcloud import WordCloud\n",
    "from IPython.display import Image\n",
    "import spacy\n",
    "nlp = spacy.load('fr_core_news_md')\n",
    "from gensim.models.phrases import Phrases, Phraser\n",
    "from gensim.models import Word2Vec\n",
    "from unidecode import unidecode"
   ]
  },
  {
   "cell_type": "markdown",
   "id": "c5eafbbe-5c8b-412b-a65e-1e6cdff77e3f",
   "metadata": {},
   "source": [
    "# Récupération, tokénisation et nettoyage des bulletins"
   ]
  },
  {
   "cell_type": "code",
   "execution_count": 2,
   "id": "d3e19708-40e6-4fa8-beaa-f34732d067b4",
   "metadata": {},
   "outputs": [],
   "source": [
    "texts_path = \"data/txt\"\n",
    "yearly_texts_path = \"data/yearly_texts\"\n",
    "results_path = \"data/results\"\n",
    "files = os.listdir(texts_path)"
   ]
  },
  {
   "cell_type": "code",
   "execution_count": 3,
   "id": "f3bcc9f1-5edc-41e0-8a7f-d6ce9842a700",
   "metadata": {},
   "outputs": [],
   "source": [
    "def clean_text(text):\n",
    "    words = wordpunct_tokenize(text)\n",
    "    kept = [w.lower() for w in words if len(w) > 2\n",
    "                                    and len(w) < 25\n",
    "                                    and w.isalpha()]\n",
    "    kept_string = \" \".join(kept)\n",
    "    return kept_string"
   ]
  },
  {
   "cell_type": "code",
   "execution_count": 4,
   "id": "551257e0-2520-4504-88de-90f205928f40",
   "metadata": {},
   "outputs": [],
   "source": [
    "for year in range(1847, 1979):\n",
    "    text = str()    \n",
    "    yearly_files = [f for f in files if f.startswith('Bxl_'+str(year))]\n",
    "    if len(yearly_files) > 0:\n",
    "        for file in yearly_files:\n",
    "            with open(os.path.join(texts_path, file), \"r\") as input_file:\n",
    "                text_tmp = input_file.read()\n",
    "                lang, conf = langid.classify(text_tmp)\n",
    "                if lang == \"fr\":\n",
    "                    text += text_tmp        \n",
    "                    text += \"\\n\"    \n",
    "        words = clean_text(text)\n",
    "        with open(os.path.join(yearly_texts_path, \"Bxl_%s_words.txt\"%year), \"w\", encoding=\"utf-8\") as output_file:\n",
    "            output_file.write(words)"
   ]
  },
  {
   "cell_type": "markdown",
   "id": "22b7da91-c252-4185-84f3-45b59c828207",
   "metadata": {},
   "source": [
    "# Fréquence des mots liés au thème de la pauvreté par année"
   ]
  },
  {
   "cell_type": "code",
   "execution_count": 5,
   "id": "8d56b82d-d6bf-4859-8f5e-7b5b36f69ac2",
   "metadata": {},
   "outputs": [],
   "source": [
    "files = [f for f in sorted(os.listdir(yearly_texts_path))]\n",
    "files = [f for f in files if f.endswith(\"words.txt\")]"
   ]
  },
  {
   "cell_type": "code",
   "execution_count": 6,
   "id": "d60fbaad-3b94-4a9a-988b-a6738349c2a7",
   "metadata": {},
   "outputs": [],
   "source": [
    "keywords = ['indigent', 'indigente', 'indigentes', 'indigents', 'mendiant', 'mendiants',\n",
    "            'mendiantes', 'mendiante', 'mendicité', 'misère', 'misères', 'pauvre', 'pauvres',\n",
    "            'pauvreté', 'précaire', 'précaires', 'précarité', 'prolétaire', 'prolétariat', \n",
    "            'démunis', 'démuni', 'démunie', 'démunies', 'mendicite','misere', 'miseres',\n",
    "            'pauvre', 'pauvres', 'pauvrete', 'precaire', 'precaires', 'precarite', 'proletaire',\n",
    "            'proletariat', 'demunis', 'demuni', 'demunie', 'demunies']  "
   ]
  },
  {
   "cell_type": "markdown",
   "id": "5d1ca38a-14c0-4777-86ea-279ed196eff2",
   "metadata": {},
   "source": [
    "### Calcul de la fréquence pour chaque année"
   ]
  },
  {
   "cell_type": "code",
   "execution_count": 7,
   "id": "ed296032-a906-4a66-ab18-22c5779efd39",
   "metadata": {},
   "outputs": [
    {
     "name": "stderr",
     "output_type": "stream",
     "text": [
      "/tmp/ipykernel_53/737887244.py:2: DeprecationWarning: The default dtype for empty Series will be 'object' instead of 'float64' in a future version. Specify a dtype explicitly to silence this warning.\n",
      "  yearly_freq = pd.Series(index = years)\n"
     ]
    }
   ],
   "source": [
    "years = range(1847, 1979)\n",
    "yearly_freq = pd.Series(index = years)\n",
    "\n",
    "for f in files:\n",
    "    count = 0\n",
    "    year = int(f[4:8])\n",
    "    with open(os.path.join(yearly_texts_path, f)) as input_file:\n",
    "        text = input_file.read()\n",
    "    words = wordpunct_tokenize(text)\n",
    "    counter = Counter(words)\n",
    "    for keyword in keywords:\n",
    "        count += counter[keyword]\n",
    "    freq = (count/sum(counter.values()))\n",
    "    yearly_freq[year] = freq*100"
   ]
  },
  {
   "cell_type": "markdown",
   "id": "d56fd049-713d-4167-a09c-07c8d480bc8a",
   "metadata": {},
   "source": [
    "### Visualisation des résultats"
   ]
  },
  {
   "cell_type": "code",
   "execution_count": 8,
   "id": "07a3fa0f-2292-4413-9aaf-f8ceeddd0331",
   "metadata": {},
   "outputs": [
    {
     "data": {
      "image/png": "[encoded data removed]",
      "text/plain": [
       "<Figure size 1152x648 with 1 Axes>"
      ]
     },
     "metadata": {
      "needs_background": "light"
     },
     "output_type": "display_data"
    }
   ],
   "source": [
    "fig = plt.figure(figsize=(16,9))\n",
    "plt.bar(yearly_freq.index, yearly_freq.values)\n",
    "plt.xlabel('Années', fontsize=16)\n",
    "plt.ylabel('Fréquence [%]', fontsize=16)\n",
    "plt.xticks(fontsize=12, rotation=30)\n",
    "plt.yticks(fontsize=12, rotation=30)\n",
    "plt.title('Fréquence des termes liés au thème de la pauvreté dans les bulletins communaux', fontsize=20)\n",
    "plt.show()\n",
    "fig.savefig(os.path.join(results_path, \"term_frequency.png\"))"
   ]
  },
  {
   "cell_type": "code",
   "execution_count": 9,
   "id": "4ea6bdbf-826b-4690-b38c-24f2c10b1b43",
   "metadata": {},
   "outputs": [],
   "source": [
    "key_years = list(yearly_freq.sort_values(ascending=False)[:10].index)\n",
    "key_years = sorted(key_years)\n",
    "key_years += [1924]"
   ]
  },
  {
   "cell_type": "markdown",
   "id": "01a47f56-3790-40aa-81b0-d030b07cc648",
   "metadata": {},
   "source": [
    "# Thèmes abordés lors des années clés"
   ]
  },
  {
   "cell_type": "markdown",
   "id": "9cbd214c-220d-413e-9d75-000ce9dc6ddf",
   "metadata": {},
   "source": [
    "### Affichage des mots les plus fréquents dans un wordcloud"
   ]
  },
  {
   "cell_type": "code",
   "execution_count": 10,
   "id": "0064593b-3a1f-48a3-9f1a-802ea258d163",
   "metadata": {},
   "outputs": [],
   "source": [
    "sw = stopwords.words(\"french\")\n",
    "sw += [\"les\", \"plus\", \"cette\", \"fait\", \"faire\", \"être\", \"deux\", \"comme\", \"dont\", \"tout\",\n",
    "       \"ils\", \"bien\", \"sans\", \"peut\", \"tous\", \"après\", \"ainsi\", \"donc\", \"cet\", \"sous\",\n",
    "       \"celle\", \"entre\", \"encore\", \"toutes\", \"pendant\", \"moins\", \"dire\", \"cela\", \"non\",\n",
    "       \"faut\", \"trois\", \"aussi\", \"dit\", \"avoir\", \"doit\", \"contre\", \"depuis\", \"autres\",\n",
    "       \"van\", \"het\", \"autre\", \"jusqu\", \"ville\", \"mois\", \"janvier\", \"février\", \"mars\",\n",
    "       \"avril\", \"mai\", \"juin\", \"juillet\", \"août\", \"septembre\", \"octobre\", \"novembre\",\n",
    "       \"décembre\", \"art\", \"article\", \"bourgmestre\", \"public\", \"publique\",\"secteur\", \n",
    "       \"proposition\", \"francs\", \"commission\", \"conseil\", \"conseiller\", \"communal\", \"projet\",\n",
    "       \"rue\", \"collège\", \"échevin\", \"état\", \"bruxelles\", \"monsieur\", \"madame\", \"mesdames\",\n",
    "       \"messieurs\", \"travaux\", \"service\", \"considérant\", \"question\", \"année\", \"budget\", \n",
    "       \"dépense\", \"dépenses\", \"membres\", \"déjà\", \"quelque\", \"avis\", \"alors\", \"arrêté\", \"très\",\n",
    "       \"intervention\", \"date\", \"toujours\", \"doivent\", \"certains\", \"concerne\", \"voudrais\", \n",
    "       \"conseil\", \"administration\", \"echevin\", \"séance\", \"section\", \"ceux\", \"quelque\", \"toute\",\n",
    "      \"propose\", \"chaque\", \"leurs\", \"assez\", \"avant\", \"elles\", \"aucune\", \"ensemble\", \"rapport\",\n",
    "      \"communale\", \"exercice\", \"celui\", \"fois\", \"suivant\", \"hôtel\", \"échevins\", \"celte\"]\n",
    "\n",
    "sw += [\"point\", \"dernier\", \"ans\", \"quelques\", \"donner\", \"hui\", \"pourra\", \"rien\", \"aucun\", \"quatre\", \"heures\",\n",
    "      \"peu\", \"voir\", \"lorsque\", \"cent\", \"chez\", \"cinq\", \"dix\"]\n",
    "\n",
    "sw = set(sw)"
   ]
  },
  {
   "cell_type": "code",
   "execution_count": 11,
   "id": "21a80c2c-f59e-4be6-ba79-ebd9e4f11fb3",
   "metadata": {},
   "outputs": [],
   "source": [
    "for year in key_years:\n",
    "    f = \"Bxl_\"+str(year)+\"_words.txt\"\n",
    "    with open(os.path.join(yearly_texts_path, f)) as input_file:\n",
    "        text = input_file.read()\n",
    "    words = wordpunct_tokenize(text)\n",
    "    words = [w for w in words if w not in sw]\n",
    "    frequencies = Counter(words)\n",
    "    cloud = WordCloud(width=2000, height=1000, background_color='white').generate_from_frequencies(frequencies)\n",
    "    cloud.to_file(os.path.join(results_path, f\"{year}.png\"))\n",
    "    Image(filename=os.path.join(results_path, f\"{year}.png\"))"
   ]
  },
  {
   "cell_type": "markdown",
   "id": "41d56856-1d21-4076-965a-2b6762f904c9",
   "metadata": {},
   "source": [
    "### Mots-clés via TF-IDF"
   ]
  },
  {
   "cell_type": "code",
   "execution_count": 12,
   "id": "b474bd91-54fc-46bb-8132-039182179f1e",
   "metadata": {},
   "outputs": [],
   "source": [
    "files = [f for f in sorted(os.listdir(texts_path))]\n",
    "texts = [open(os.path.join(texts_path, f)).read() for f in files]"
   ]
  },
  {
   "cell_type": "code",
   "execution_count": 13,
   "id": "aef565b7-6e99-4e79-af47-df7931f83a81",
   "metadata": {},
   "outputs": [],
   "source": [
    "# Création d'une fonction de pré-traitement\n",
    "def preprocessing(text, stem=True):\n",
    "    \"\"\" Tokenize text and remove punctuation \"\"\"\n",
    "    text = text.translate(string.punctuation)\n",
    "    tokens = wordpunct_tokenize(text)\n",
    "    return tokens"
   ]
  },
  {
   "cell_type": "code",
   "execution_count": 14,
   "id": "aed0ed86-4d8d-4917-884d-03e6c0cada2c",
   "metadata": {},
   "outputs": [],
   "source": [
    "# Instancier le modèle TF-IDF avec ses arguments\n",
    "vectorizer = TfidfVectorizer(\n",
    "    tokenizer=preprocessing,\n",
    "    stop_words=sw,\n",
    "    max_df= 0.9,\n",
    "    min_df=0.1,\n",
    "    lowercase=True)"
   ]
  },
  {
   "cell_type": "code",
   "execution_count": 15,
   "id": "10b4731a-75a3-470b-bf00-b46daaeac518",
   "metadata": {},
   "outputs": [
    {
     "name": "stdout",
     "output_type": "stream",
     "text": [
      "CPU times: user 2min 30s, sys: 135 ms, total: 2min 31s\n",
      "Wall time: 2min 31s\n"
     ]
    }
   ],
   "source": [
    "%time tfidf_vectors = vectorizer.fit_transform(texts)"
   ]
  },
  {
   "cell_type": "code",
   "execution_count": 16,
   "id": "7ba304ce-7229-44a9-a330-2ca79fc20b68",
   "metadata": {},
   "outputs": [],
   "source": [
    "tfidf_matrix=pd.DataFrame(data = tfidf_vectors.toarray(),\n",
    "                          index = files,\n",
    "                          columns = vectorizer.get_feature_names_out())"
   ]
  },
  {
   "cell_type": "markdown",
   "id": "fc59470f-0c14-4155-815f-e1546d9c0101",
   "metadata": {},
   "source": [
    "### Extraction d'entités nommées"
   ]
  },
  {
   "cell_type": "code",
   "execution_count": 17,
   "id": "4e0d3bc1-e824-48d9-a28e-e77c180de664",
   "metadata": {},
   "outputs": [],
   "source": [
    "# On a remarqué que le mot \"hospice\" était également pertinent pour l'étude de la pauvreté,\n",
    "# on l'ajoute donc aux keywords\n",
    "keywords += [\"hospices\", \"hospice\"]"
   ]
  },
  {
   "cell_type": "code",
   "execution_count": 18,
   "id": "739092b4-6d11-4273-9805-c35dbef85a99",
   "metadata": {},
   "outputs": [],
   "source": [
    "yearly_sentences = {}\n",
    "for year in key_years:\n",
    "    text = str()\n",
    "    yearly_files = [f for f in files if f.startswith('Bxl_'+str(year))]\n",
    "    for file in yearly_files:\n",
    "        with open(os.path.join(texts_path, file), \"r\") as input_file:\n",
    "            text_tmp = input_file.read()\n",
    "            lang, conf = langid.classify(text_tmp)\n",
    "            if lang == \"fr\":\n",
    "                text += text_tmp\n",
    "                text += \"\\n\"\n",
    "    yearly_sentences[year] = sent_tokenize(text)"
   ]
  },
  {
   "cell_type": "code",
   "execution_count": 19,
   "id": "bf041cd1-93c1-4b35-a3f6-60bf9b2e0c17",
   "metadata": {},
   "outputs": [],
   "source": [
    "for year, sents in yearly_sentences.items():\n",
    "    i=0\n",
    "    index = []\n",
    "    for sent in sents:\n",
    "        for keyword in keywords:\n",
    "            if keyword in sent:\n",
    "                index.append(i)\n",
    "        i+=1\n",
    "    index = set(index)\n",
    "    yearly_sentences[year] = [sents[i] for i in index]"
   ]
  },
  {
   "cell_type": "code",
   "execution_count": 20,
   "id": "963adfa5-486d-4ba3-a776-0fc6f1f18752",
   "metadata": {},
   "outputs": [],
   "source": [
    "for year, sents in yearly_sentences.items():\n",
    "    text = \"\\n\".join(sents)\n",
    "    with open(os.path.join(yearly_texts_path, \"Bxl_%s_sents.txt\" %year), \"w\") as output_file:\n",
    "        output_file.write(text)"
   ]
  },
  {
   "cell_type": "code",
   "execution_count": 21,
   "id": "86af9724-77cd-412b-9de1-c3c2ddd45906",
   "metadata": {},
   "outputs": [],
   "source": [
    "named_entities = {year: [] for year in key_years}\n",
    "for year, sents in yearly_sentences.items():\n",
    "    for sent in sents:\n",
    "        doc = nlp(sent)\n",
    "        for ent in doc.ents:\n",
    "            if (ent.label_ != \"MISC\"\n",
    "            and len(ent.text)>3\n",
    "            and ent.text.lower() not in sw\n",
    "            and ent.text.count(\" \") < (len(ent.text)-1)/2):\n",
    "                named_entities[year].append(f\"{ent.text} ({ent.label_})\")   \n",
    "for year, entities in named_entities.items():\n",
    "    named_entities[year] = set(entities)"
   ]
  },
  {
   "cell_type": "markdown",
   "id": "364eb49f-c97a-49e9-a96c-694ca1e9ff38",
   "metadata": {},
   "source": [
    "# Création d'un modèle Word2Vec"
   ]
  },
  {
   "cell_type": "code",
   "execution_count": 22,
   "id": "fc021c5e-50a7-4d31-9fda-bc703a76d40c",
   "metadata": {},
   "outputs": [],
   "source": [
    "# Création d'un objet qui *streame* les lignes d'un fichier pour économiser de la RAM\n",
    "class MySentences(object):\n",
    "    \"\"\"Tokenize and Lemmatize sentences\"\"\"\n",
    "    def __init__(self, filename):\n",
    "        self.filename = filename\n",
    "\n",
    "    def __iter__(self):\n",
    "        for line in open(self.filename, encoding='utf-8', errors=\"backslashreplace\"):\n",
    "            yield [unidecode(w.lower()) for w in wordpunct_tokenize(line)]"
   ]
  },
  {
   "cell_type": "markdown",
   "id": "c546fead-2822-4669-92dc-d9c90cd39908",
   "metadata": {},
   "source": [
    "### On rassemble toutes les phrases des années 1860-1925 en un seul fichier sents.txt"
   ]
  },
  {
   "cell_type": "code",
   "execution_count": 23,
   "id": "2526893f-09af-49ed-b249-e38d1f68f153",
   "metadata": {},
   "outputs": [],
   "source": [
    "text=str()\n",
    "for year in range(1860, 1925):\n",
    "    yearly_files = [f for f in files if f.startswith('Bxl_'+str(year))]\n",
    "    for file in yearly_files:\n",
    "        with open(os.path.join(texts_path, file), \"r\") as input_file:\n",
    "            text += input_file.read()        \n",
    "            text += \"\\n\"    \n",
    "\n",
    "with open(\"data/sents.txt\", \"w\") as outfile:\n",
    "    outfile.write(text)"
   ]
  },
  {
   "cell_type": "code",
   "execution_count": 24,
   "id": "1d7e2a74-8445-4569-88ca-e032e9dd0bce",
   "metadata": {},
   "outputs": [],
   "source": [
    "# On lit ces phrases grâce à la \"classe\" définie précédemment\n",
    "infile = f\"data/sents.txt\"\n",
    "sentences = MySentences(infile)"
   ]
  },
  {
   "cell_type": "code",
   "execution_count": 25,
   "id": "e5a10da2-f370-4e75-9af1-ccdbb663ac27",
   "metadata": {},
   "outputs": [],
   "source": [
    "# %%time\n",
    "# bigram_phrases = Phrases(sentences)\n",
    "# bigram_phraser = Phraser(phrases_model=bigram_phrases)\n",
    "# trigram_phrases = Phrases(bigram_phraser[sentences])\n",
    "# trigram_phraser = Phraser(phrases_model=trigram_phrases)\n",
    "\n",
    "# corpus = list(trigram_phraser[bigram_phraser[sentences]])\n",
    "\n",
    "# model = Word2Vec(\n",
    "#     corpus, # On passe le corpus de ngrams que nous venons de créer\n",
    "#     vector_size=32, # Le nombre de dimensions dans lesquelles le contexte des mots devra être réduit, aka. vector_size\n",
    "#     window=5, # La taille du \"contexte\", ici 5 mots avant et après le mot observé\n",
    "#     min_count=5, # On ignore les mots qui n'apparaissent pas au moins 5 fois dans le corpus\n",
    "#     workers=4, # Permet de paralléliser l'entraînement du modèle en 4 threads\n",
    "#     epochs=5 # Nombre d'itérations du réseau de neurones sur le jeu de données pour ajuster les paramètres avec la descente de gradient, aka. epochs.\n",
    "# )\n",
    "# outfile = f\"data/word2vec.model\"\n",
    "# model.save(outfile)"
   ]
  },
  {
   "cell_type": "code",
   "execution_count": 26,
   "id": "e3e6efe7-ab91-42a6-8010-9ba0169d8a67",
   "metadata": {},
   "outputs": [],
   "source": [
    "model = Word2Vec.load(\"data/word2vec.model\")"
   ]
  },
  {
   "cell_type": "code",
   "execution_count": 27,
   "id": "e36f21b9-6da4-49f7-a808-90ead0a64de0",
   "metadata": {},
   "outputs": [
    {
     "data": {
      "text/plain": [
       "[('riche', 0.911007285118103),\n",
       " ('jeune', 0.793242335319519),\n",
       " ('consommateur', 0.780964195728302),\n",
       " ('sang', 0.7694865465164185),\n",
       " ('cruel', 0.7558524012565613)]"
      ]
     },
     "execution_count": 27,
     "metadata": {},
     "output_type": "execute_result"
    }
   ],
   "source": [
    "model.wv.most_similar(\"pauvre\", topn=5)"
   ]
  }
 ],
 "metadata": {
  "kernelspec": {
   "display_name": "Python 3 (ipykernel)",
   "language": "python",
   "name": "python3"
  },
  "language_info": {
   "codemirror_mode": {
    "name": "ipython",
    "version": 3
   },
   "file_extension": ".py",
   "mimetype": "text/x-python",
   "name": "python",
   "nbconvert_exporter": "python",
   "pygments_lexer": "ipython3",
   "version": "3.9.7"
  }
 },
 "nbformat": 4,
 "nbformat_minor": 5
}
