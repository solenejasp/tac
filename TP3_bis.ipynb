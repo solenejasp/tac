{
 "cells": [
  {
   "cell_type": "markdown",
   "id": "8eb73741-aa64-4549-a93c-ca27541584f1",
   "metadata": {
    "tags": []
   },
   "source": [
    "# Clustering de documents"
   ]
  },
  {
   "cell_type": "markdown",
   "id": "1163c739-5bbb-484e-8048-960788290759",
   "metadata": {},
   "source": [
    "## Imports"
   ]
  },
  {
   "cell_type": "code",
   "execution_count": 1,
   "id": "780d8bca-2b53-4fe9-a867-81cf9d115f27",
   "metadata": {},
   "outputs": [],
   "source": [
    "import collections\n",
    "import os\n",
    "import string\n",
    "import sys\n",
    "\n",
    "import pandas as pd\n",
    "from nltk import word_tokenize\n",
    "from nltk.corpus import stopwords\n",
    "from pprint import pprint\n",
    "from sklearn.cluster import KMeans\n",
    "from sklearn.feature_extraction.text import TfidfVectorizer\n",
    "from sklearn.decomposition import PCA\n",
    "import numpy as np\n",
    "import matplotlib.pyplot as plt\n",
    "from scipy.spatial.distance import cosine"
   ]
  },
  {
   "cell_type": "code",
   "execution_count": 2,
   "id": "cddecc01-e11c-484c-a07c-b778eb5c47a5",
   "metadata": {},
   "outputs": [
    {
     "name": "stderr",
     "output_type": "stream",
     "text": [
      "[nltk_data] Downloading package punkt to /root/nltk_data...\n",
      "[nltk_data]   Package punkt is already up-to-date!\n"
     ]
    },
    {
     "data": {
      "text/plain": [
       "True"
      ]
     },
     "execution_count": 2,
     "metadata": {},
     "output_type": "execute_result"
    }
   ],
   "source": [
    "import nltk\n",
    "\n",
    "nltk.download('punkt')"
   ]
  },
  {
   "cell_type": "code",
   "execution_count": 3,
   "id": "c2a1677b-1723-40eb-9d68-ddf79604e976",
   "metadata": {},
   "outputs": [],
   "source": [
    "data_path = \"../data/txt/\""
   ]
  },
  {
   "cell_type": "markdown",
   "id": "fdfb6d3a-61a7-443e-8881-c9103d741c6c",
   "metadata": {},
   "source": [
    "## Choisir une décennie"
   ]
  },
  {
   "cell_type": "code",
   "execution_count": 4,
   "id": "075ad84e-9d4c-4d75-ab9e-9041ab58ce0d",
   "metadata": {},
   "outputs": [],
   "source": [
    "DECADE = '1890'"
   ]
  },
  {
   "cell_type": "markdown",
   "id": "722df43f-7a57-4ed1-9413-435767246296",
   "metadata": {},
   "source": [
    "## Charger tous les  fichiers de la décennie et en créer une liste de textes"
   ]
  },
  {
   "cell_type": "code",
   "execution_count": 5,
   "id": "a8358df6-13d6-459b-b26e-63e43edbf481",
   "metadata": {},
   "outputs": [],
   "source": [
    "files = [f for f in sorted(os.listdir(data_path)) if f\"_{DECADE[:-1]}\" in f]"
   ]
  },
  {
   "cell_type": "code",
   "execution_count": 6,
   "id": "a4e42b9f-d327-4436-99a1-78ec2d6bb495",
   "metadata": {},
   "outputs": [
    {
     "data": {
      "text/plain": [
       "['Bxl_1890_Tome_I1_Part_1.txt',\n",
       " 'Bxl_1890_Tome_I1_Part_2.txt',\n",
       " 'Bxl_1890_Tome_I1_Part_3.txt',\n",
       " 'Bxl_1890_Tome_I1_Part_4.txt',\n",
       " 'Bxl_1890_Tome_I1_Part_5.txt']"
      ]
     },
     "execution_count": 6,
     "metadata": {},
     "output_type": "execute_result"
    }
   ],
   "source": [
    "# Exemple de fichiers\n",
    "files[:5]"
   ]
  },
  {
   "cell_type": "code",
   "execution_count": 7,
   "id": "42fd6d9f-9966-4577-a9a6-946fb0d5e4d1",
   "metadata": {},
   "outputs": [],
   "source": [
    "texts = [open(data_path + f).read() for f in files]"
   ]
  },
  {
   "cell_type": "markdown",
   "id": "52cb0cf6-d4b7-4436-9af5-cd2a0317dd25",
   "metadata": {},
   "source": [
    "## Vectoriser les documents à l'aide de TF-IDF"
   ]
  },
  {
   "cell_type": "code",
   "execution_count": 8,
   "id": "120915d2-38ed-41d6-8b42-9ab1e981158c",
   "metadata": {},
   "outputs": [],
   "source": [
    "# Création d'une fonction de pré-traitement\n",
    "def preprocessing(text, stem=True):\n",
    "    \"\"\" Tokenize text and remove punctuation \"\"\"\n",
    "    text = text.translate(string.punctuation)\n",
    "    tokens = word_tokenize(text)\n",
    "    return tokens"
   ]
  },
  {
   "cell_type": "markdown",
   "id": "b78018bc-2a0b-4d7c-ac0a-1d8737b48488",
   "metadata": {},
   "source": [
    "### Instancier le modèle TF-IDF avec ses arguments"
   ]
  },
  {
   "cell_type": "code",
   "execution_count": 9,
   "id": "dcef7ac9-639b-4302-b71a-8c408c1f9da7",
   "metadata": {},
   "outputs": [],
   "source": [
    "vectorizer = TfidfVectorizer(\n",
    "    tokenizer=preprocessing,\n",
    "    stop_words=stopwords.words('french'),\n",
    "    max_df=0.5,\n",
    "    min_df=0.1,\n",
    "    lowercase=True)"
   ]
  },
  {
   "cell_type": "markdown",
   "id": "0afe63c1-74d5-4d47-aaf1-9eff55e3be7a",
   "metadata": {},
   "source": [
    "### Construire la matrice de vecteurs à l'aide de la fonction `fit_transform`"
   ]
  },
  {
   "cell_type": "code",
   "execution_count": 10,
   "id": "230ecdf3-95f2-48bf-b1a6-f22ed2a11632",
   "metadata": {},
   "outputs": [
    {
     "name": "stdout",
     "output_type": "stream",
     "text": [
      "CPU times: user 1min 44s, sys: 133 ms, total: 1min 44s\n",
      "Wall time: 1min 44s\n"
     ]
    }
   ],
   "source": [
    "%time tfidf_vectors = vectorizer.fit_transform(texts)"
   ]
  },
  {
   "cell_type": "code",
   "execution_count": 11,
   "id": "75386594-e0f5-4477-b97c-e297b674e590",
   "metadata": {},
   "outputs": [
    {
     "data": {
      "text/plain": [
       "scipy.sparse.csr.csr_matrix"
      ]
     },
     "execution_count": 11,
     "metadata": {},
     "output_type": "execute_result"
    }
   ],
   "source": [
    "# Détail de la matrice\n",
    "tfidf_vectors\n",
    "type(tfidf_vectors)"
   ]
  },
  {
   "cell_type": "markdown",
   "id": "d2fa56ae-b6bf-4c78-9acd-9ef4fd3616e3",
   "metadata": {},
   "source": [
    "### Imprimer le vecteur tf-IDF du premier document"
   ]
  },
  {
   "cell_type": "code",
   "execution_count": 13,
   "id": "747d9e2c-6ecb-4387-ba49-b2de1cba6a23",
   "metadata": {},
   "outputs": [
    {
     "data": {
      "text/plain": [
       "compteur      0.349195\n",
       "compteurs     0.267369\n",
       "retenues      0.171238\n",
       "walravens     0.162293\n",
       "=             0.138324\n",
       "                ...   \n",
       "déposée       0.000000\n",
       "déposé+sur    0.000000\n",
       "dépose        0.000000\n",
       "déplorable    0.000000\n",
       "™             0.000000\n",
       "Length: 7563, dtype: float64"
      ]
     },
     "execution_count": 13,
     "metadata": {},
     "output_type": "execute_result"
    }
   ],
   "source": [
    "pd.Series(\n",
    "    tfidf_vectors[0].toarray()[0],\n",
    "    index=vectorizer.get_feature_names_out()\n",
    "    ).sort_values(ascending=False)"
   ]
  },
  {
   "cell_type": "markdown",
   "id": "5784e88c-ef97-4d2f-884f-720d40391664",
   "metadata": {},
   "source": [
    "### Tests sur nos documents"
   ]
  },
  {
   "cell_type": "code",
   "execution_count": 14,
   "id": "dfd04352-81a1-4173-a145-c8bac1b8211a",
   "metadata": {},
   "outputs": [],
   "source": [
    "tfidf_array = tfidf_vectors.toarray()"
   ]
  },
  {
   "cell_type": "markdown",
   "id": "9c1b51f2-537a-4c6a-86b4-cd7fd3242cec",
   "metadata": {},
   "source": [
    "## Appliquer un algorithme de clustering sur les vecteurs TF-IDF des documents"
   ]
  },
  {
   "cell_type": "markdown",
   "id": "64b54fa2-1343-439e-a238-5c84695033f2",
   "metadata": {},
   "source": [
    "### Définir un nombre de clusters"
   ]
  },
  {
   "cell_type": "code",
   "execution_count": 15,
   "id": "6b3f8c0f-0ec1-42f8-be52-2dc5aa257f62",
   "metadata": {},
   "outputs": [],
   "source": [
    "N_CLUSTERS = 3"
   ]
  },
  {
   "cell_type": "markdown",
   "id": "f15a66d5-3f9d-465e-b8c1-8b3f218715f0",
   "metadata": {},
   "source": [
    "### Instancier le modèle K-Means et ses arguments"
   ]
  },
  {
   "cell_type": "code",
   "execution_count": 16,
   "id": "c1459950-a0b8-45ac-9442-a81e01934a12",
   "metadata": {},
   "outputs": [],
   "source": [
    "km_model = KMeans(n_clusters=N_CLUSTERS)"
   ]
  },
  {
   "cell_type": "markdown",
   "id": "2c08e972-07be-4b0b-9251-65ccc762e0a7",
   "metadata": {},
   "source": [
    "### Appliquer le clustering à l'aide de la fonction `fit_predict`"
   ]
  },
  {
   "cell_type": "code",
   "execution_count": 17,
   "id": "84c40b78-4a62-41f9-9a4b-96fdd2e47b35",
   "metadata": {},
   "outputs": [],
   "source": [
    "clusters = km_model.fit_predict(tfidf_vectors)"
   ]
  },
  {
   "cell_type": "code",
   "execution_count": 18,
   "id": "9ad0f123-0a45-49ec-8880-68980df9af8d",
   "metadata": {},
   "outputs": [],
   "source": [
    "clustering = collections.defaultdict(list)\n",
    "\n",
    "for idx, label in enumerate(clusters):\n",
    "    clustering[label].append(files[idx])"
   ]
  },
  {
   "cell_type": "code",
   "execution_count": null,
   "id": "5dda1a5f-6a2b-43af-9b4e-16624803461d",
   "metadata": {},
   "outputs": [],
   "source": [
    "pprint(dict(clustering))"
   ]
  },
  {
   "cell_type": "markdown",
   "id": "fd558742-a18d-4b86-8181-e49d5124f32f",
   "metadata": {},
   "source": [
    "## Visualiser les clusters"
   ]
  },
  {
   "cell_type": "markdown",
   "id": "ec78776c-8361-4290-829b-92d622b959b6",
   "metadata": {},
   "source": [
    "### Réduire les vecteurs à 2 dimensions à l'aide de l'algorithme PCA\n",
    "Cette étape est nécessaire afin de visualiser les documents dans un espace 2D\n",
    "\n",
    "https://fr.wikipedia.org/wiki/Analyse_en_composantes_principales"
   ]
  },
  {
   "cell_type": "code",
   "execution_count": 19,
   "id": "74d5f15f-7db1-4215-8100-191b2ab51b78",
   "metadata": {},
   "outputs": [],
   "source": [
    "pca = PCA(n_components=2)\n",
    "reduced_vectors = pca.fit_transform(tfidf_vectors.toarray())"
   ]
  },
  {
   "cell_type": "markdown",
   "id": "8acdbd64-5aad-463f-abf0-91286cbeb6f9",
   "metadata": {},
   "source": [
    "### Générer le plot"
   ]
  },
  {
   "cell_type": "code",
   "execution_count": 20,
   "id": "8cbdf372-2354-414a-8442-08e46521a13d",
   "metadata": {},
   "outputs": [
    {
     "data": {
      "image/png": "[encoded data removed]",
      "text/plain": [
       "<Figure size 720x720 with 1 Axes>"
      ]
     },
     "metadata": {
      "needs_background": "light"
     },
     "output_type": "display_data"
    }
   ],
   "source": [
    "x_axis = reduced_vectors[:, 0]\n",
    "y_axis = reduced_vectors[:, 1]\n",
    "\n",
    "plt.figure(figsize=(10,10))\n",
    "scatter = plt.scatter(x_axis, y_axis, s=100, c=clusters)\n",
    "\n",
    "# Ajouter les centroïdes\n",
    "centroids = pca.transform(km_model.cluster_centers_)\n",
    "plt.scatter(centroids[:, 0], centroids[:, 1],  marker = \"x\", s=100, linewidths = 2, color='black')\n",
    "\n",
    "# Ajouter la légende\n",
    "plt.legend(handles=scatter.legend_elements()[0], labels=set(clusters), title=\"Clusters\")\n",
    "plt.savefig(f'clusters_{DECADE}.png')"
   ]
  },
  {
   "cell_type": "markdown",
   "id": "c784b324-b4f0-452f-b732-6aaa17de68dd",
   "metadata": {},
   "source": [
    "## S'assurer que les clusters ont du sens au moyen des Word Clouds"
   ]
  },
  {
   "cell_type": "markdown",
   "id": "a84fee4c-6b95-4ef7-90a7-b2b9a363d35c",
   "metadata": {},
   "source": [
    "### Imports"
   ]
  },
  {
   "cell_type": "code",
   "execution_count": 21,
   "id": "d1978b94-0a08-4e95-a449-8640ddd1ec8b",
   "metadata": {},
   "outputs": [
    {
     "name": "stderr",
     "output_type": "stream",
     "text": [
      "[nltk_data] Downloading package stopwords to /root/nltk_data...\n",
      "[nltk_data]   Package stopwords is already up-to-date!\n"
     ]
    }
   ],
   "source": [
    "from collections import Counter\n",
    "from wordcloud import WordCloud\n",
    "import os\n",
    "import nltk\n",
    "nltk.download('stopwords')\n",
    "from nltk.corpus import stopwords\n",
    "from IPython.display import Image"
   ]
  },
  {
   "cell_type": "code",
   "execution_count": 38,
   "id": "4a130840-8fa9-4660-bd7f-788e6bc745a2",
   "metadata": {},
   "outputs": [],
   "source": [
    "# Stopwords\n",
    "sw = stopwords.words(\"french\")\n",
    "sw += [\"les\", \"plus\", \"cette\", \"fait\", \"faire\", \"être\", \"deux\", \"comme\", \"dont\", \"tout\",\n",
    "       \"ils\", \"elles\", \"bien\", \"sans\", \"peut\", \"tous\", \"après\", \"ainsi\", \"donc\", \"cet\", \"sous\",\n",
    "       \"celle\", \"entre\", \"encore\", \"toutes\", \"pendant\", \"moins\", \"dire\", \"cela\", \"non\",\n",
    "       \"faut\", \"trois\", \"aussi\", \"dit\", \"avoir\", \"doit\", \"contre\", \"depuis\", \"autres\",\n",
    "       \"van\", \"het\", \"autre\", \"jusqu\", \"ville\", \"janvier\", \"février\", \"mars\", \"avril\", \n",
    "       \"mai\", \"juin\", \"juillet\", \"août\", \"septembre\", \"octobre\", \"novembre\", \"décembre\", \n",
    "       \"art\", \"article\", \"bourgmestre\", \"public\", \"publique\",\"secteur\", \"proposition\", \"francs\",\n",
    "       \"commission\", \"conseil\", \"conseiller\", \"communal\", \"projet\", \"rue\", \"collège\", \n",
    "       \"échevin\", \"état\", \"bruxelles\", \"mesdames\", \"messieurs\", \"service\", \"considérant\",\n",
    "       \"question\", \"année\", \"membres\", \"déjà\", \"quelque\", \"avis\", \"alors\", \"arrêté\", \"très\",\n",
    "       \"intervention\", \"date\", \"plusieurs\", \"heures\", \"séance\", \"etc\", \"échevin\", \"section\", \"honorable\", \n",
    "       \"seulement\", \"général\", \"jour\", \"mois\", \"aujourd\", \"hui\", \"ceux\", \"donne\", \"pourrait\", \"parce\", \"possible\", \n",
    "       \"toute\", \"car\", \"rien\", \"lieu\", \"ici\", \"pourquoi\", \"chose\", \"trop\", \"voyez\", \"faites\", \"commune\", \"communes\",\n",
    "       \"echevin\", \"faite\", \"sujet\", \"demander\", \"dernière\", \"rues\", \"trouve\", \"agit\", \"voix\", \"celui\", \"aucune\",\n",
    "       \"voté\", \"laquelle\", \"cause\", \"leurs\", \"donner\", \"conseillers\", \"habitants\", \"bulletin\", \"beaucoup\", \"chiffre\", \"fois\",\n",
    "      \"quant\", \"moment\", \"devant\", \"voir\", \"avant\", \"adopté\", \"lecture\", \"comité\", \"également\", \"partie\", \"devons\", \"dernier\",\n",
    "      \"vote\", \"quelques\", \"mot\", \"toujours\", \"suite\", \"vue\", \"crois\", \"beaucoup\"]\n",
    "sw = set(sw)"
   ]
  },
  {
   "cell_type": "markdown",
   "id": "6323e129-1f6a-4a8e-bd80-206a91ea5688",
   "metadata": {},
   "source": [
    "### Nettoyer le fichier à l'aide d'une fonction de nettoyage"
   ]
  },
  {
   "cell_type": "code",
   "execution_count": 39,
   "id": "8f1c3e60-9ffe-4487-9345-5ffb2e56dcc6",
   "metadata": {},
   "outputs": [],
   "source": [
    "def clean_text(text):\n",
    "    words = nltk.wordpunct_tokenize(text)\n",
    "    kept = [w.lower() for w in words if len(w) > 2 and w.isalpha() and w.lower() not in sw]\n",
    "    kept = \" \".join(kept)\n",
    "    return kept"
   ]
  },
  {
   "cell_type": "code",
   "execution_count": 40,
   "id": "1410090c-3d67-430d-a0a4-d0e2ec6ccfca",
   "metadata": {},
   "outputs": [],
   "source": [
    "for cluster, filenames in clustering.items():\n",
    "    text = str()\n",
    "    for f in filenames:\n",
    "        filepath = os.path.join(data_path, f)\n",
    "        with open(filepath, 'r') as tmp:\n",
    "            text += tmp.read()\n",
    "            text += \"\\n\"\n",
    "            \n",
    "    text = clean_text(text)\n",
    "    frequencies = Counter(text.split())\n",
    "    cloud = WordCloud(width=2000, height=1000, background_color='white').generate_from_frequencies(frequencies)\n",
    "    cloud.to_file(f\"cluster_{cluster}_wordcloud.png\")    "
   ]
  },
  {
   "cell_type": "markdown",
   "id": "c4e4c163-152b-428c-a5ef-7fb0efc4e54e",
   "metadata": {
    "tags": []
   },
   "source": [
    "# Word Embeddings : le modèle Word2Vec"
   ]
  },
  {
   "cell_type": "markdown",
   "id": "8e9c569f-8066-4574-b5c0-99db79d39b3e",
   "metadata": {},
   "source": [
    "## Imports"
   ]
  },
  {
   "cell_type": "code",
   "execution_count": 1,
   "id": "0788bdf3-0389-4ffc-a21a-1f806d712b02",
   "metadata": {},
   "outputs": [],
   "source": [
    "import sys\n",
    "\n",
    "from gensim.models.phrases import Phrases, Phraser\n",
    "from gensim.models import Word2Vec\n",
    "\n",
    "import nltk\n",
    "from nltk.tokenize import wordpunct_tokenize\n",
    "from unidecode import unidecode\n",
    "\n",
    "from itertools import product"
   ]
  },
  {
   "cell_type": "markdown",
   "id": "e76bde9b-48e5-405f-93c9-15f2efcbcad7",
   "metadata": {},
   "source": [
    "## Chargement et traitement des phrases du corpus"
   ]
  },
  {
   "cell_type": "markdown",
   "id": "eeacdb3d-1f60-4396-86bc-af91d7af0a3c",
   "metadata": {},
   "source": [
    "### Création d'un objet qui *streame* les lignes d'un fichier pour économiser de la RAM"
   ]
  },
  {
   "cell_type": "code",
   "execution_count": 2,
   "id": "c0f34f9d-b42b-4034-bb9e-c8f723aa7bff",
   "metadata": {},
   "outputs": [],
   "source": [
    "class MySentences(object):\n",
    "    \"\"\"Tokenize and Lemmatize sentences\"\"\"\n",
    "    def __init__(self, filename):\n",
    "        self.filename = filename\n",
    "\n",
    "    def __iter__(self):\n",
    "        for line in open(self.filename, encoding='utf-8', errors=\"backslashreplace\"):\n",
    "            yield [unidecode(w.lower()) for w in wordpunct_tokenize(line)]"
   ]
  },
  {
   "cell_type": "code",
   "execution_count": 3,
   "id": "af393767-8847-46c4-95af-cccc16cda5b4",
   "metadata": {},
   "outputs": [],
   "source": [
    "infile = f\"../data/sents.txt\"\n",
    "sentences = MySentences(infile)"
   ]
  },
  {
   "cell_type": "markdown",
   "id": "eaa822f6-b620-47f1-855c-9dae6e5d654e",
   "metadata": {},
   "source": [
    "### Détection des bigrams\n",
    "\n",
    "Article intéressant sur le sujet : https://towardsdatascience.com/word2vec-for-phrases-learning-embeddings-for-more-than-one-word-727b6cf723cf"
   ]
  },
  {
   "cell_type": "code",
   "execution_count": 4,
   "id": "3c368588-6fde-4e2b-bedf-aa42e46c678a",
   "metadata": {},
   "outputs": [],
   "source": [
    "bigram_phrases = Phrases(sentences)"
   ]
  },
  {
   "cell_type": "markdown",
   "id": "53e92b53-1a68-49b9-ad56-8ee5b3f80ca3",
   "metadata": {},
   "source": [
    "L'object `phrases` peut être vu comme un large dictionnaire d'expressions multi-mots associées à un score, le *PMI-like scoring*. Ce dictionnaire est construit par un apprentissage sur base d'exemples.\n",
    "Voir les références ci-dessous :\n",
    "- https://arxiv.org/abs/1310.4546\n",
    "- https://en.wikipedia.org/wiki/Pointwise_mutual_information"
   ]
  },
  {
   "cell_type": "code",
   "execution_count": 5,
   "id": "5813fd5d-1e1a-4094-b031-91b090a5237b",
   "metadata": {},
   "outputs": [
    {
     "data": {
      "text/plain": [
       "dict"
      ]
     },
     "execution_count": 5,
     "metadata": {},
     "output_type": "execute_result"
    }
   ],
   "source": [
    "type(bigram_phrases.vocab)"
   ]
  },
  {
   "cell_type": "markdown",
   "id": "c2813d6d-15c2-4f39-a3de-7e2fdc7461d1",
   "metadata": {},
   "source": [
    "Il contient de nombreuses clés qui sont autant de termes observés dans le corpus"
   ]
  },
  {
   "cell_type": "code",
   "execution_count": 6,
   "id": "ac1724d1-dbb0-41c3-817a-1c3bca981212",
   "metadata": {},
   "outputs": [
    {
     "data": {
      "text/plain": [
       "3469945"
      ]
     },
     "execution_count": 6,
     "metadata": {},
     "output_type": "execute_result"
    }
   ],
   "source": [
    "len(bigram_phrases.vocab.keys())"
   ]
  },
  {
   "cell_type": "markdown",
   "id": "4b944fb7-c0aa-4889-888a-b243071142a2",
   "metadata": {},
   "source": [
    "Prenons une clé au hasard :"
   ]
  },
  {
   "cell_type": "code",
   "execution_count": 7,
   "id": "53812244-8787-4473-b265-ff5614961e74",
   "metadata": {},
   "outputs": [
    {
     "name": "stdout",
     "output_type": "stream",
     "text": [
      "u_n\n"
     ]
    }
   ],
   "source": [
    "key_ = list(bigram_phrases.vocab.keys())[52]\n",
    "print(key_)"
   ]
  },
  {
   "cell_type": "markdown",
   "id": "af02c715-fbcd-4f2e-b87d-b00cf7e47aeb",
   "metadata": {},
   "source": [
    "Le dictionnaire indique le score de cette coocurrence :"
   ]
  },
  {
   "cell_type": "code",
   "execution_count": 8,
   "id": "25bb1efb-1fd0-412d-8311-725fb21e53c0",
   "metadata": {},
   "outputs": [
    {
     "data": {
      "text/plain": [
       "70807"
      ]
     },
     "execution_count": 8,
     "metadata": {},
     "output_type": "execute_result"
    }
   ],
   "source": [
    "bigram_phrases.vocab[key_]"
   ]
  },
  {
   "cell_type": "markdown",
   "id": "2d03377f-059e-4fbf-81d5-623c0f57130d",
   "metadata": {},
   "source": [
    "Lorsque l'instance de `Phrases` a été entraînée, elle peut concaténer les bigrams dans les phrases lorsque c'est pertinent."
   ]
  },
  {
   "cell_type": "code",
   "execution_count": 9,
   "id": "3edb1700-fa6c-445b-8187-2d8cb3295c9f",
   "metadata": {},
   "outputs": [
    {
     "name": "stdout",
     "output_type": "stream",
     "text": [
      "CPU times: user 0 ns, sys: 2.69 ms, total: 2.69 ms\n",
      "Wall time: 4.58 ms\n"
     ]
    },
    {
     "data": {
      "text/plain": [
       "<gensim.interfaces.TransformedCorpus at 0x7f8dfbbe1be0>"
      ]
     },
     "execution_count": 9,
     "metadata": {},
     "output_type": "execute_result"
    }
   ],
   "source": [
    "%time bigram_phrases[sentences]"
   ]
  },
  {
   "cell_type": "markdown",
   "id": "7f14fd99-705d-48bc-9837-6e4d38e976b5",
   "metadata": {},
   "source": [
    "### Conversion des `Phrases` en objet `Phraser`\n",
    "\n",
    "`Phraser` est un alias pour `gensim.models.phrases.FrozenPhrases`, voir ici https://radimrehurek.com/gensim/models/phrases.html.\n",
    "\n",
    "Le `Phraser` est une version *light* du `Phrases`, plus optimale pour transformer les phrases en concaténant les bigrams."
   ]
  },
  {
   "cell_type": "code",
   "execution_count": 10,
   "id": "9af3aa2f-d30e-4290-b0e2-7f698f1f7b1e",
   "metadata": {},
   "outputs": [],
   "source": [
    "bigram_phraser = Phraser(phrases_model=bigram_phrases)"
   ]
  },
  {
   "cell_type": "markdown",
   "id": "6970143f-276a-4d57-8ec3-fcd77e6d39f5",
   "metadata": {},
   "source": [
    "Le `Phraser` est un objet qui convertit certains unigrams d'une liste en bigrams lorsqu'ils ont été identifiés comme pertinents."
   ]
  },
  {
   "cell_type": "code",
   "execution_count": 11,
   "id": "7c500959-15cc-44be-975b-67c786ae454b",
   "metadata": {},
   "outputs": [
    {
     "name": "stdout",
     "output_type": "stream",
     "text": [
      "CPU times: user 2.73 ms, sys: 15 µs, total: 2.75 ms\n",
      "Wall time: 2.95 ms\n"
     ]
    },
    {
     "data": {
      "text/plain": [
       "<gensim.interfaces.TransformedCorpus at 0x7f8dfbbe1dc0>"
      ]
     },
     "execution_count": 11,
     "metadata": {},
     "output_type": "execute_result"
    }
   ],
   "source": [
    "%time bigram_phraser[sentences]"
   ]
  },
  {
   "cell_type": "markdown",
   "id": "2e8fc524-9f68-400f-a209-4f854c93a64c",
   "metadata": {},
   "source": [
    "### Extraction des trigrams"
   ]
  },
  {
   "cell_type": "markdown",
   "id": "0fb74405-56d1-444b-bd46-33cf1886058a",
   "metadata": {},
   "source": [
    "Nous répétons l'opération en envoyant cette fois la liste de bigrams afin d'extraire les trigrams."
   ]
  },
  {
   "cell_type": "code",
   "execution_count": 12,
   "id": "4daccf3a-d66d-42e2-abb5-34275532a09d",
   "metadata": {},
   "outputs": [],
   "source": [
    "trigram_phrases = Phrases(bigram_phraser[sentences])"
   ]
  },
  {
   "cell_type": "code",
   "execution_count": 13,
   "id": "c1bfc4fe-aa87-4023-9b7e-3e0a990d73db",
   "metadata": {},
   "outputs": [],
   "source": [
    "trigram_phraser = Phraser(phrases_model=trigram_phrases)"
   ]
  },
  {
   "cell_type": "markdown",
   "id": "783c933a-db5c-4c8d-a6ca-93197161cf93",
   "metadata": {},
   "source": [
    "### Création d'un corpus d'unigrams, bigrams, trigrams"
   ]
  },
  {
   "cell_type": "code",
   "execution_count": 14,
   "id": "f9cbc770-4f50-4288-ab20-85b361d45547",
   "metadata": {},
   "outputs": [],
   "source": [
    "corpus = list(trigram_phraser[bigram_phraser[sentences]])"
   ]
  },
  {
   "cell_type": "code",
   "execution_count": null,
   "id": "cb9e58bd-ec7c-493a-b400-6309c571c98b",
   "metadata": {},
   "outputs": [],
   "source": [
    "print(corpus[:100])"
   ]
  },
  {
   "cell_type": "markdown",
   "id": "e4cfee2b-9c19-4dc1-9507-3d2bcf40db73",
   "metadata": {},
   "source": [
    "## Entrainement d'un modèle Word2Vec sur ce corpus"
   ]
  },
  {
   "cell_type": "code",
   "execution_count": 27,
   "id": "2bb5ba16-ac26-452d-915a-90ee8d7fb61a",
   "metadata": {},
   "outputs": [
    {
     "name": "stdout",
     "output_type": "stream",
     "text": [
      "CPU times: user 6min 53s, sys: 13.4 s, total: 7min 7s\n",
      "Wall time: 2min 48s\n"
     ]
    }
   ],
   "source": [
    "%%time\n",
    "\n",
    "model = Word2Vec(\n",
    "    corpus, # On passe le corpus de ngrams que nous venons de créer\n",
    "    vector_size=32, # Le nombre de dimensions dans lesquelles le contexte des mots devra être réduit, aka. vector_size\n",
    "    window=3, # La taille du \"contexte\", ici 3 mots avant et après le mot observé\n",
    "    min_count=5, # On ignore les mots qui n'apparaissent pas au moins 5 fois dans le corpus\n",
    "    workers=4, # Permet de paralléliser l'entraînement du modèle en 4 threads\n",
    "    epochs=5 # Nombre d'itérations du réseau de neurones sur le jeu de données pour ajuster les paramètres avec la descende de gradient, aka. epochs.\n",
    ")\n"
   ]
  },
  {
   "cell_type": "markdown",
   "id": "03f5b88d-14da-4a9d-a235-460fa0e1582d",
   "metadata": {},
   "source": [
    "#### Remarque\n",
    "\n",
    "Vous voyez ici que l'entrainement du modèle est parallélisé (sur 4 workers).\n",
    "\n",
    "Lors qu'on parallélise l'entrainement du modèle, 4 modèles \"séparés\" sont entrainés sur environ un quart des phrases.\n",
    "\n",
    "Ensuite, les résultats sont agrégés pour ne plus faire qu'un seul modèle.\n",
    "\n",
    "On ne peut prédire quel worker aura quelle phrase, car il y a des aléas lors de la parallélisation (p. ex. un worker qui serait plus lent, etc.).\n",
    "\n",
    "Du coup, les valeurs peuvent varier légèrement d'un entrainement à l'autre.\n",
    "\n",
    "Mais, globalement, les résultats restent cohérents."
   ]
  },
  {
   "cell_type": "markdown",
   "id": "75a0e82e-8894-4f95-9804-748010544a19",
   "metadata": {},
   "source": [
    "### Sauver le modèle dans un fichier"
   ]
  },
  {
   "cell_type": "code",
   "execution_count": null,
   "id": "93a8f9d6-9cfc-4bff-8bb9-bc2856785f1f",
   "metadata": {},
   "outputs": [],
   "source": [
    "outfile = f\"../data/bulletins_window3_mincount5.model\"\n",
    "model.save(outfile)"
   ]
  },
  {
   "cell_type": "markdown",
   "id": "febce9a4-1a28-4d87-a68e-0aa433b4856d",
   "metadata": {},
   "source": [
    "## Explorer le modèle"
   ]
  },
  {
   "cell_type": "markdown",
   "id": "46241965-1d3a-4ea0-bc30-4357411015bb",
   "metadata": {},
   "source": [
    "### Charger le modèle en mémoire"
   ]
  },
  {
   "cell_type": "code",
   "execution_count": 16,
   "id": "74330cff-13f1-4996-94ec-f6e391e3c150",
   "metadata": {},
   "outputs": [],
   "source": [
    "model = Word2Vec.load(\"../data/bulletins_window3_mincount5.model\")"
   ]
  },
  {
   "cell_type": "markdown",
   "id": "80a1fcf9-c1f6-485d-b801-19f5dfebea64",
   "metadata": {},
   "source": [
    "### Imprimer le vecteur d'un terme"
   ]
  },
  {
   "cell_type": "code",
   "execution_count": 12,
   "id": "7afaea19-a0f7-4ad0-834b-5f7b81917685",
   "metadata": {},
   "outputs": [
    {
     "data": {
      "text/plain": [
       "array([ 0.29163277,  6.6896186 ,  1.5164253 , -0.4532989 , -9.14311   ,\n",
       "       -0.77201   , -0.4528325 ,  0.22679839,  2.8133347 , -0.8003154 ,\n",
       "       -3.0617375 ,  0.83455837, -1.1370182 ,  4.933788  ,  1.2025405 ,\n",
       "       -1.7358984 ,  3.9705176 ,  0.43421504, -0.62117106,  3.0644865 ,\n",
       "        0.95674634, -4.263601  ,  1.6916689 , -1.9917955 , -1.5737313 ,\n",
       "        2.718892  , -4.9935384 , -4.7360945 , -1.9167641 ,  1.3701291 ,\n",
       "        3.0381756 ,  2.8672593 ], dtype=float32)"
      ]
     },
     "execution_count": 12,
     "metadata": {},
     "output_type": "execute_result"
    }
   ],
   "source": [
    "model.wv[\"bruxelles\"]"
   ]
  },
  {
   "cell_type": "markdown",
   "id": "1e25c9ec-7d51-4189-a2c9-ff222cfb9c40",
   "metadata": {},
   "source": [
    "### Calculer la similarité entre deux termes"
   ]
  },
  {
   "cell_type": "code",
   "execution_count": 13,
   "id": "6f82f239-83ef-4de4-9732-0012c08a7b65",
   "metadata": {},
   "outputs": [
    {
     "name": "stdout",
     "output_type": "stream",
     "text": [
      "0.58627814\n",
      "0.8962237\n",
      "0.9569592\n"
     ]
    }
   ],
   "source": [
    "print(model.wv.similarity(\"ecole\", \"universite\"))\n",
    "print(model.wv.similarity(\"peintre\", \"sculpteur\"))\n",
    "print(model.wv.similarity(\"allemand\", \"italien\"))"
   ]
  },
  {
   "cell_type": "markdown",
   "id": "191a5b1b-ed3c-44b4-a641-962cb1c30618",
   "metadata": {},
   "source": [
    "### Chercher les mots les plus proches d'un terme donné"
   ]
  },
  {
   "cell_type": "code",
   "execution_count": 14,
   "id": "908f56b8-385e-41bb-8bae-44bc53ef35dc",
   "metadata": {},
   "outputs": [
    {
     "name": "stdout",
     "output_type": "stream",
     "text": [
      "[('restructuration', 0.8404665589332581), ('reorganisation', 0.7949417233467102), ('politique_sociale', 0.7883490920066833)]\n",
      "[('hopital_universitaire', 0.9391401410102844), ('hopital_brugmann', 0.902520477771759), ('institut_bordet', 0.8888595104217529)]\n",
      "[('vole', 0.7146410942077637), ('comite_secret', 0.7095484137535095), ('amendement', 0.7052839994430542)]\n",
      "[('etterbeek', 0.8930837512016296), ('boitsfort', 0.8838813900947571), ('watermael', 0.8762987852096558)]\n"
     ]
    }
   ],
   "source": [
    "print(model.wv.most_similar(\"reforme\", topn=3))\n",
    "print(model.wv.most_similar(\"hopital\", topn=3))\n",
    "print(model.wv.most_similar(\"vote\", topn=3))\n",
    "print(model.wv.most_similar(\"ixelles\", topn=3))"
   ]
  },
  {
   "cell_type": "markdown",
   "id": "2bec916d-cda3-47a6-a41b-a8e83015cf04",
   "metadata": {},
   "source": [
    "### Faire des recherches complexes à travers l'espace vectoriel"
   ]
  },
  {
   "cell_type": "code",
   "execution_count": 15,
   "id": "b862ebc5-595e-44ac-aafd-d6ed87bd3564",
   "metadata": {},
   "outputs": [
    {
     "name": "stdout",
     "output_type": "stream",
     "text": [
      "[('nyssens', 0.7530838251113892), ('delva', 0.7196995615959167), ('dont_il_achevera', 0.7184416651725769)]\n",
      "[('italien', 0.9132727384567261), ('anglais', 0.8974788188934326), ('espagnol', 0.8829753398895264)]\n",
      "[('pechevin', 0.6556261777877808), ('ech_evin', 0.6260346174240112), ('notre_honorable', 0.6252685785293579)]\n"
     ]
    }
   ],
   "source": [
    "print(model.wv.most_similar(positive=['cooremans', 'laeken'], negative=['bruxelles'], topn=3))\n",
    "print(model.wv.most_similar(positive=['allemand', 'italie'], negative=['allemagne'], topn=3))\n",
    "print(model.wv.most_similar(positive=['cooremans', 'echevin'], negative=['bourgmestre'], topn=3))"
   ]
  }
 ],
 "metadata": {
  "kernelspec": {
   "display_name": "Python 3 (ipykernel)",
   "language": "python",
   "name": "python3"
  },
  "language_info": {
   "codemirror_mode": {
    "name": "ipython",
    "version": 3
   },
   "file_extension": ".py",
   "mimetype": "text/x-python",
   "name": "python",
   "nbconvert_exporter": "python",
   "pygments_lexer": "ipython3",
   "version": "3.9.7"
  }
 },
 "nbformat": 4,
 "nbformat_minor": 5
}
