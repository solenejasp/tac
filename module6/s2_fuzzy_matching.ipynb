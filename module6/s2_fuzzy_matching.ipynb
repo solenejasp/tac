{
 "cells": [
  {
   "cell_type": "markdown",
   "metadata": {},
   "source": [
    "# Détection automatique d'erreurs d'OCR"
   ]
  },
  {
   "cell_type": "markdown",
   "metadata": {},
   "source": [
    "## Installation"
   ]
  },
  {
   "cell_type": "code",
   "execution_count": 1,
   "metadata": {},
   "outputs": [
    {
     "name": "stdout",
     "output_type": "stream",
     "text": [
      "Requirement already satisfied: thefuzz[speedup] in /usr/local/lib/python3.9/site-packages (0.19.0)\n",
      "Requirement already satisfied: python-levenshtein>=0.12 in /usr/local/lib/python3.9/site-packages (from thefuzz[speedup]) (0.12.2)\n",
      "Requirement already satisfied: setuptools in /usr/local/lib/python3.9/site-packages (from python-levenshtein>=0.12->thefuzz[speedup]) (57.5.0)\n",
      "\u001b[33mWARNING: Running pip as the 'root' user can result in broken permissions and conflicting behaviour with the system package manager. It is recommended to use a virtual environment instead: https://pip.pypa.io/warnings/venv\u001b[0m\n",
      "\u001b[33mWARNING: You are using pip version 21.3; however, version 21.3.1 is available.\n",
      "You should consider upgrading via the '/usr/local/bin/python -m pip install --upgrade pip' command.\u001b[0m\n"
     ]
    }
   ],
   "source": [
    "!pip install thefuzz[speedup]"
   ]
  },
  {
   "cell_type": "markdown",
   "metadata": {},
   "source": [
    "## Imports"
   ]
  },
  {
   "cell_type": "code",
   "execution_count": 2,
   "metadata": {},
   "outputs": [],
   "source": [
    "import nltk\n",
    "from thefuzz import fuzz\n",
    "from thefuzz import process\n",
    "from Levenshtein import distance"
   ]
  },
  {
   "cell_type": "markdown",
   "metadata": {},
   "source": [
    "Nous allons d'abord utiliser la distance de Levenshtein, selon sa formule originale (1965)"
   ]
  },
  {
   "cell_type": "code",
   "execution_count": 3,
   "metadata": {},
   "outputs": [
    {
     "data": {
      "text/plain": [
       "3"
      ]
     },
     "execution_count": 3,
     "metadata": {},
     "output_type": "execute_result"
    }
   ],
   "source": [
    "distance(\"bulletin\", \"ballotins\")"
   ]
  },
  {
   "cell_type": "markdown",
   "metadata": {},
   "source": [
    "Nous allons ensuite faire appel à la librairie TheFuzz (anciennement fuzzywuzzy) qui repose sur python-Levenshtein (https://github.com/seatgeek/thefuzz).\n",
    "Celle-ci permet de normaliser le résultat en calculant un ratio (pourcentage) de similarité entre deux chaînes de caractères :"
   ]
  },
  {
   "cell_type": "code",
   "execution_count": 4,
   "metadata": {},
   "outputs": [
    {
     "data": {
      "text/plain": [
       "71"
      ]
     },
     "execution_count": 4,
     "metadata": {},
     "output_type": "execute_result"
    }
   ],
   "source": [
    "fuzz.ratio(\"bulletin\", \"ballotins\")"
   ]
  },
  {
   "cell_type": "markdown",
   "metadata": {},
   "source": [
    "La fonction  `partial_ratio` se focalise sur la sous-chaîne (substring) la plus similaire : "
   ]
  },
  {
   "cell_type": "code",
   "execution_count": 5,
   "metadata": {},
   "outputs": [
    {
     "data": {
      "text/plain": [
       "100"
      ]
     },
     "execution_count": 5,
     "metadata": {},
     "output_type": "execute_result"
    }
   ],
   "source": [
    "fuzz.partial_ratio(\"Grand\", \"Grand-Place\")"
   ]
  },
  {
   "cell_type": "markdown",
   "metadata": {},
   "source": [
    "La fonction `token_sort_ratio` ignore l'ordre des mots :"
   ]
  },
  {
   "cell_type": "code",
   "execution_count": 6,
   "metadata": {},
   "outputs": [
    {
     "data": {
      "text/plain": [
       "100"
      ]
     },
     "execution_count": 6,
     "metadata": {},
     "output_type": "execute_result"
    }
   ],
   "source": [
    "fuzz.token_sort_ratio(\"archives de la ville de Bruxelles\", \"de Bruxelles la ville de archives\")"
   ]
  },
  {
   "cell_type": "markdown",
   "metadata": {},
   "source": [
    "La fonction `token_set_ratio` ignore les répétitions de mots :"
   ]
  },
  {
   "cell_type": "code",
   "execution_count": 7,
   "metadata": {},
   "outputs": [
    {
     "data": {
      "text/plain": [
       "100"
      ]
     },
     "execution_count": 7,
     "metadata": {},
     "output_type": "execute_result"
    }
   ],
   "source": [
    "fuzz.token_set_ratio(\"plus jamais ça !\", \"plus jamais Jamais JAMAIS ça !!!\")"
   ]
  },
  {
   "cell_type": "markdown",
   "metadata": {},
   "source": [
    "Chargeons à présent le fichier `all.txt` (tronqué) : "
   ]
  },
  {
   "cell_type": "code",
   "execution_count": 8,
   "metadata": {},
   "outputs": [
    {
     "name": "stdout",
     "output_type": "stream",
     "text": [
      "12683666 words (tokens) found\n",
      "159024 different word forms\n"
     ]
    }
   ],
   "source": [
    "data_path = \"../data/all.txt\"\n",
    "LIMIT = 50000000\n",
    "text = open(data_path).read()[:LIMIT]\n",
    "\n",
    "tokens = nltk.wordpunct_tokenize(text)\n",
    "print(f\"{len(tokens)} words (tokens) found\")\n",
    "\n",
    "vocab = set(tokens)\n",
    "print(f\"{len(vocab)} different word forms\")"
   ]
  },
  {
   "cell_type": "markdown",
   "metadata": {},
   "source": [
    "Nous pouvons identifier les variantes d'un mot par ordre décroissant de similarité : "
   ]
  },
  {
   "cell_type": "code",
   "execution_count": 9,
   "metadata": {},
   "outputs": [
    {
     "data": {
      "text/plain": [
       "[('EXPOSITION', 100),\n",
       " ('exposition', 100),\n",
       " ('Exposition', 100),\n",
       " ('Expositions', 95),\n",
       " ('EXPOSITIONS', 95),\n",
       " ('expositions', 95),\n",
       " ('exé', 90),\n",
       " ('èsi', 90),\n",
       " ('îion', 90),\n",
       " ('sité', 90),\n",
       " ('Itî', 90),\n",
       " ('ition', 90),\n",
       " ('TION', 90),\n",
       " ('tio', 90),\n",
       " ('Sîi', 90)]"
      ]
     },
     "execution_count": 9,
     "metadata": {},
     "output_type": "execute_result"
    }
   ],
   "source": [
    "word = \"exposition\"\n",
    "process.extract(word, vocab, limit=15)"
   ]
  },
  {
   "cell_type": "markdown",
   "metadata": {},
   "source": [
    "Les caractères accentués ne sont pas pris en compte pour le calcul du score, mais cela reste une bonne base pour récupérer les occurrences mal OCRisées d'un mot."
   ]
  }
 ],
 "metadata": {
  "interpreter": {
   "hash": "0db3faaa3df0159b5bafcd6d260557c66dc7ed2363d564044ba237865e0e2379"
  },
  "kernelspec": {
   "display_name": "Python 3 (ipykernel)",
   "language": "python",
   "name": "python3"
  },
  "language_info": {
   "codemirror_mode": {
    "name": "ipython",
    "version": 3
   },
   "file_extension": ".py",
   "mimetype": "text/x-python",
   "name": "python",
   "nbconvert_exporter": "python",
   "pygments_lexer": "ipython3",
   "version": "3.9.7"
  }
 },
 "nbformat": 4,
 "nbformat_minor": 4
}
